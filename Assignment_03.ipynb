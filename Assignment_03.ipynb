{
 "cells": [
  {
   "cell_type": "code",
   "execution_count": 1,
   "id": "92709ac7",
   "metadata": {},
   "outputs": [
    {
     "name": "stderr",
     "output_type": "stream",
     "text": [
      "C:\\Users\\surta\\anaconda3\\lib\\site-packages\\gensim\\similarities\\__init__.py:15: UserWarning: The gensim.similarities.levenshtein submodule is disabled, because the optional Levenshtein package <https://pypi.org/project/python-Levenshtein/> is unavailable. Install Levenhstein (e.g. `pip install python-Levenshtein`) to suppress this warning.\n",
      "  warnings.warn(msg)\n",
      "[nltk_data] Downloading package stopwords to\n",
      "[nltk_data]     C:\\Users\\surta\\AppData\\Roaming\\nltk_data...\n",
      "[nltk_data]   Package stopwords is already up-to-date!\n",
      "[nltk_data] Downloading package punkt to\n",
      "[nltk_data]     C:\\Users\\surta\\AppData\\Roaming\\nltk_data...\n",
      "[nltk_data]   Package punkt is already up-to-date!\n"
     ]
    },
    {
     "data": {
      "text/plain": [
       "True"
      ]
     },
     "execution_count": 1,
     "metadata": {},
     "output_type": "execute_result"
    }
   ],
   "source": [
    "# Importing required packages\n",
    "import torch\n",
    "import torch.nn as nn\n",
    "from torch.autograd import Variable\n",
    "\n",
    "from tqdm import tqdm\n",
    "import os\n",
    "import argparse\n",
    "\n",
    "import string\n",
    "import random\n",
    "import time\n",
    "import math\n",
    "\n",
    "import numpy as np\n",
    "import pandas as pd\n",
    "from nltk.util import ngrams\n",
    "#from google.colab import drive\n",
    "from os import listdir\n",
    "from os.path import isfile, join\n",
    "import json\n",
    "import time\n",
    "import nltk\n",
    "import re\n",
    "from progressbar import ProgressBar\n",
    "from tqdm import tqdm\n",
    "from nltk.tokenize import word_tokenize\n",
    "from nltk.tokenize import sent_tokenize\n",
    "from nltk.tokenize import regexp_tokenize\n",
    "import nltk.data \n",
    "import nltk\n",
    "import matplotlib.pyplot as plt\n",
    "import pickle\n",
    "import networkx as nx\n",
    "from nltk.corpus import stopwords\n",
    "from nltk.stem.wordnet import WordNetLemmatizer\n",
    "\n",
    "import gensim\n",
    "from gensim.models import word2vec\n",
    "import logging\n",
    "from scipy import stats\n",
    "from scipy.spatial import distance\n",
    "from fastdist import fastdist\n",
    "from tsai.all import *\n",
    "\n",
    "\n",
    "# download the nltk packages required\n",
    "from nltk.corpus import stopwords\n",
    "nltk.download('stopwords')\n",
    "nltk.download('punkt')"
   ]
  },
  {
   "cell_type": "markdown",
   "id": "fc03729c",
   "metadata": {
    "id": "5kszIDwbXqAV"
   },
   "source": [
    "### Extracting the data from the json files and storing in drive\n",
    "\n"
   ]
  },
  {
   "cell_type": "code",
   "execution_count": 2,
   "id": "3aba1223",
   "metadata": {
    "id": "p4J0Qc3ETqiu"
   },
   "outputs": [],
   "source": [
    "path = 'C:/Users/surta/Downloads/pdf_json'\n",
    "start = time.time()\n",
    "filenames = [f for f in listdir(path) if isfile(join(path, f))]\n",
    "end = time.time()"
   ]
  },
  {
   "cell_type": "code",
   "execution_count": 3,
   "id": "1917d648",
   "metadata": {
    "colab": {
     "base_uri": "https://localhost:8080/"
    },
    "id": "HKW15rfyOxON",
    "outputId": "5f043f0e-f91a-4cdd-d8eb-3494c0bc534e"
   },
   "outputs": [
    {
     "name": "stdout",
     "output_type": "stream",
     "text": [
      "The total number of files found:  56528\n"
     ]
    }
   ],
   "source": [
    "# Displaying the total number of json files in the shared drive folder\n",
    "print(\"The total number of files found: \", len(filenames))"
   ]
  },
  {
   "cell_type": "code",
   "execution_count": null,
   "id": "efcfeac4",
   "metadata": {
    "colab": {
     "base_uri": "https://localhost:8080/"
    },
    "id": "j7BoeUQQaEtW",
    "outputId": "7873c986-da0d-4fcc-f9c2-decd3620d878"
   },
   "outputs": [],
   "source": [
    "def extract_text(text):\n",
    "    title_meta = []\n",
    "    title_meta.append(text['metadata']['title'])\n",
    "    text_abstract = [text['abstract'][entry]['text'] for entry in range(len(text['abstract']))]\n",
    "    text_bodytext = [text['body_text'][entry]['text'] for entry in range(len(text['body_text']))]\n",
    "\n",
    "    full_text = title_meta + text_abstract + text_bodytext\n",
    "    return full_text\n",
    "\n",
    "final_text = []\n",
    "for i in tqdm(range(len(filenames))):\n",
    "    file_name = open(path+'/'+filenames[i])\n",
    "    text = json.loads(file_name.read())\n",
    "    final_text.append(extract_text(text))"
   ]
  },
  {
   "cell_type": "code",
   "execution_count": null,
   "id": "b9fefe0e",
   "metadata": {
    "id": "_EYcvsjspqWu"
   },
   "outputs": [],
   "source": [
    "final_str_text = [' '.join(final_text[i]) for i in range(len(final_text))]"
   ]
  },
  {
   "cell_type": "markdown",
   "id": "6a3c6d62",
   "metadata": {
    "id": "yauQk2LVmA6i"
   },
   "source": [
    "Pre-processing steps\n",
    "\n",
    "*   Lower casing\n",
    "*   Remove Stop words\n",
    "\n",
    "*   Remove punctuations like !()-[]{};:'\"\\,<>/?@#$%^&*_~\n",
    "*   Remove website URLs\n",
    "*   Remove non-alphanumeric characters i.e. everything except \n",
    "*   Remove numbers[0-9], letters and _\n",
    "\n",
    "\n",
    "*   Remove strings which look like dates for e.g. **12/23/2016** and times **12:34:56**. Also remove strings which also are **am** or **pm** which are probably part of the preceding time in the source list\n",
    "*   Lemmatization\n",
    "\n",
    "\n"
   ]
  },
  {
   "cell_type": "code",
   "execution_count": null,
   "id": "7b86777f",
   "metadata": {
    "id": "26ReBUc-tweG"
   },
   "outputs": [],
   "source": [
    "def preprocessing(data):\n",
    "    text_lower = data.lower()\n",
    "\n",
    "    STOPWORDS = set(stopwords.words('english'))\n",
    "    text_stop = \" \".join([word for word in text_lower.split() if word not in STOPWORDS])\n",
    "\n",
    "    text_punc = re.sub(r'[^\\w\\s^.]', '', text_stop)\n",
    "    text_url = re.sub(r'https?://\\S+|www\\.\\S+', '', text_punc)\n",
    "\n",
    "    text_date = re.sub(r'^(?:(?:[0-9]{2}[:\\/,]){2}[0-9]{2,4}|am|pm)$', '', text_url)\n",
    "    \n",
    "    # removing non-alphanumeric characters\n",
    "    text_alnum = re.sub(r'\\W+^.', ' ', text_date)\n",
    "\n",
    "    # removing numbers (0-9)\n",
    "    text_number = re.sub(r'[0-9]+', '', text_alnum)\n",
    "    \n",
    "    wordnet_lemmatizer = WordNetLemmatizer()\n",
    "    text_lemma = \" \".join([wordnet_lemmatizer.lemmatize(word) for word in text_number.split(\" \")])\n",
    "\n",
    "    return text_lemma"
   ]
  },
  {
   "cell_type": "code",
   "execution_count": 4,
   "id": "8facb216",
   "metadata": {},
   "outputs": [
    {
     "name": "stderr",
     "output_type": "stream",
     "text": [
      "[nltk_data] Downloading package omw-1.4 to\n",
      "[nltk_data]     C:\\Users\\surta\\AppData\\Roaming\\nltk_data...\n",
      "[nltk_data]   Package omw-1.4 is already up-to-date!\n"
     ]
    },
    {
     "data": {
      "text/plain": [
       "True"
      ]
     },
     "execution_count": 4,
     "metadata": {},
     "output_type": "execute_result"
    }
   ],
   "source": [
    "import nltk\n",
    "nltk.download('omw-1.4')"
   ]
  },
  {
   "cell_type": "code",
   "execution_count": null,
   "id": "b6c14e76",
   "metadata": {},
   "outputs": [],
   "source": [
    "with open('preprocessed_final_with_dot.txt', 'w', encoding = 'utf8') as f:\n",
    "    for item in tqdm(range(len(final_str_text))):\n",
    "        if item != '':\n",
    "            f.write(\"%s\\n\" % preprocessing(final_str_text[item]))"
   ]
  },
  {
   "cell_type": "code",
   "execution_count": 4,
   "id": "fe42473a",
   "metadata": {},
   "outputs": [],
   "source": [
    "with open('C:/Users/surta/Downloads/preprocessed_final_with_dot.txt', 'r', encoding=\"utf8\") as f:\n",
    "    pre_text = f.readlines()"
   ]
  },
  {
   "cell_type": "markdown",
   "id": "d103385f",
   "metadata": {},
   "source": [
    "We have considered first 20 documents for this task."
   ]
  },
  {
   "cell_type": "code",
   "execution_count": 5,
   "id": "234cb12f",
   "metadata": {},
   "outputs": [],
   "source": [
    "pre_text = pre_text[:20]"
   ]
  },
  {
   "cell_type": "markdown",
   "id": "4ba9bd6f",
   "metadata": {},
   "source": [
    "We extract all the sentences from each document based on delimeter \".\" i.e. fullstop. "
   ]
  },
  {
   "cell_type": "code",
   "execution_count": 6,
   "id": "0e4f468d",
   "metadata": {},
   "outputs": [],
   "source": [
    "sentences = [j.strip() for i in range(len(pre_text)) for j in pre_text[i].split(\".\") if j.strip() != '']"
   ]
  },
  {
   "cell_type": "markdown",
   "id": "d978ccc9",
   "metadata": {},
   "source": [
    "There are a total of 3002 sentences in the first 20 documents considered."
   ]
  },
  {
   "cell_type": "code",
   "execution_count": 7,
   "id": "c3393dc7",
   "metadata": {},
   "outputs": [
    {
     "data": {
      "text/plain": [
       "3002"
      ]
     },
     "execution_count": 7,
     "metadata": {},
     "output_type": "execute_result"
    }
   ],
   "source": [
    "len(sentences)"
   ]
  },
  {
   "cell_type": "code",
   "execution_count": 8,
   "id": "cca48b99",
   "metadata": {},
   "outputs": [],
   "source": [
    "def compute_word_vectors(path): \n",
    "    '''\n",
    "    computes the word vectors corresponding to the text corpus passed and returns the trained model\n",
    "    '''\n",
    "    logging.basicConfig(format='%(asctime)s : %(levelname)s : %(message)s', level=logging.INFO)\n",
    "    text = word2vec.Text8Corpus(path)\n",
    "    model = word2vec.Word2Vec(text, vector_size = 128, window = 5, min_count = 50, workers=10, epochs = 1 )\n",
    "    model.save('model1.bin')\n",
    "    return model"
   ]
  },
  {
   "cell_type": "code",
   "execution_count": null,
   "id": "ae1e157b",
   "metadata": {},
   "outputs": [],
   "source": [
    "path = 'C:/Users/surta/Downloads/preprocessed_final_with_dot.txt'\n",
    "\n",
    "word2vec = compute_word_vectors(path)\n",
    "word2vec.save(root+'model_NLP_word2vec.bin')"
   ]
  },
  {
   "cell_type": "code",
   "execution_count": 9,
   "id": "db1f0895",
   "metadata": {},
   "outputs": [],
   "source": [
    "word2vec = word2vec.Word2Vec.load('C:/Users/surta/Downloads/model_NLP.bin')"
   ]
  },
  {
   "cell_type": "code",
   "execution_count": 11,
   "id": "acbcb4ff",
   "metadata": {},
   "outputs": [],
   "source": [
    "vocab = list(word2vec.wv.index_to_key)"
   ]
  },
  {
   "cell_type": "code",
   "execution_count": 12,
   "id": "cb93300c",
   "metadata": {},
   "outputs": [],
   "source": [
    "embedding={}\n",
    "for word in vocab:\n",
    "    embedding[word] = word2vec.wv.get_vector(word)"
   ]
  },
  {
   "cell_type": "code",
   "execution_count": 13,
   "id": "ef659b10",
   "metadata": {},
   "outputs": [],
   "source": [
    "path = Path('C:/Users/surta/Downloads/')\n",
    "X = create_empty_array((len(sentences), 192*2), fname='X_on_disk', path=path, mode='r+')"
   ]
  },
  {
   "cell_type": "code",
   "execution_count": 27,
   "id": "4595ad51",
   "metadata": {},
   "outputs": [],
   "source": [
    "def compute_sent_emb(embedding, sentences, nhid, dir = 1):\n",
    "    h0 = np.random.normal(0, 0.01, nhid)\n",
    "    U = np.random.normal(0, 0.01, (nhid, nhid))\n",
    "    W = np.random.normal(0,0.01,(nhid, 128))\n",
    "    prev_h_forward = U.dot(h0)\n",
    "    prev_h_back = U.dot(h0)\n",
    "    h_forward = np.zeros(nhid)\n",
    "    h_back = np.zeros(nhid)\n",
    "    i = 0\n",
    "    for sent in tqdm(sentences):\n",
    "        if dir in [0,1]:\n",
    "            for word in sent.split():\n",
    "                if word in embedding:\n",
    "                    x = embedding[word]\n",
    "                    y = stats.zscore(x)\n",
    "                    h_forward = np.tanh(np.dot(W, y) + np.dot(U, prev_h_forward))\n",
    "                    prev_h_forward = h_forward/nhid\n",
    "        if dir in [0,2]:\n",
    "            for word in sent.split()[::-1]:\n",
    "                if word in embedding:\n",
    "                    x = embedding[word]\n",
    "                    y = stats.zscore(x)\n",
    "                    h_back = np.tanh(np.dot(W, y) + np.dot(U, prev_h_back))\n",
    "                    prev_h_back = h_back/nhid\n",
    "        X[i] = np.concatenate((h_forward, h_back))\n",
    "        i += 1"
   ]
  },
  {
   "cell_type": "code",
   "execution_count": 28,
   "id": "783fa488",
   "metadata": {},
   "outputs": [
    {
     "name": "stderr",
     "output_type": "stream",
     "text": [
      "100%|█████████████████████████████████████████████████████████████████████████████| 3002/3002 [00:03<00:00, 755.15it/s]\n"
     ]
    }
   ],
   "source": [
    "compute_sent_emb(embedding, sentences, nhid = 192)"
   ]
  },
  {
   "cell_type": "code",
   "execution_count": 29,
   "id": "42128214",
   "metadata": {},
   "outputs": [],
   "source": [
    "def similar_sent_finder(index):\n",
    "    lst1=[]\n",
    "    sim=np.zeros(len(sentences))\n",
    "    k = index\n",
    "    i=0\n",
    "    for l in range(len(sentences)):\n",
    "        p = fastdist.cosine(X[k],X[l])\n",
    "        sim[i]=p\n",
    "        i=i+1\n",
    "    ind = np.argpartition(sim, -10)[-10:]\n",
    "    for i in ind:\n",
    "        lst1.append((sentences[i],sim[i]))\n",
    "    sim_df = pd.DataFrame(lst1)\n",
    "    sim_df.columns = ['Sentence', 'Cosine Similarity']\n",
    "    sim_df = sim_df.sort_values(by = ['Cosine Similarity'], ascending = False)\n",
    "    return sim_df.iloc[1:]"
   ]
  },
  {
   "cell_type": "code",
   "execution_count": 30,
   "id": "0ea6c836",
   "metadata": {},
   "outputs": [
    {
     "name": "stdout",
     "output_type": "stream",
     "text": [
      "Example 1: multifaceted covid russian experience according current live statistic time editing letter russia third country world affected covid new case death rate rising\n"
     ]
    },
    {
     "data": {
      "text/html": [
       "<div>\n",
       "<style scoped>\n",
       "    .dataframe tbody tr th:only-of-type {\n",
       "        vertical-align: middle;\n",
       "    }\n",
       "\n",
       "    .dataframe tbody tr th {\n",
       "        vertical-align: top;\n",
       "    }\n",
       "\n",
       "    .dataframe thead th {\n",
       "        text-align: right;\n",
       "    }\n",
       "</style>\n",
       "<table border=\"1\" class=\"dataframe\">\n",
       "  <thead>\n",
       "    <tr style=\"text-align: right;\">\n",
       "      <th></th>\n",
       "      <th>Sentence</th>\n",
       "      <th>Cosine Similarity</th>\n",
       "    </tr>\n",
       "  </thead>\n",
       "  <tbody>\n",
       "    <tr>\n",
       "      <th>8</th>\n",
       "      <td>low temperature between   c   c small peptide concentration dependence clear temperature correlation whereas high temperature between   c   c strong decrease hwhm presence inclusion depending pl content without variation temperature rise</td>\n",
       "      <td>0.666299</td>\n",
       "    </tr>\n",
       "    <tr>\n",
       "      <th>4</th>\n",
       "      <td>tested antibody following strain titre  assigned value  order allow calculation titre rise</td>\n",
       "      <td>0.666281</td>\n",
       "    </tr>\n",
       "    <tr>\n",
       "      <th>7</th>\n",
       "      <td>asymptomatic atypical presentation covid continue present ed number covid case rise</td>\n",
       "      <td>0.666281</td>\n",
       "    </tr>\n",
       "    <tr>\n",
       "      <th>2</th>\n",
       "      <td>doctor team reported appreciating ot available help cognitive assessment especially mental capacity concern treatment declined</td>\n",
       "      <td>0.649984</td>\n",
       "    </tr>\n",
       "    <tr>\n",
       "      <th>6</th>\n",
       "      <td>conclusion year study single medical institution found use teicoplanin linezolid significantly increased</td>\n",
       "      <td>0.615510</td>\n",
       "    </tr>\n",
       "    <tr>\n",
       "      <th>1</th>\n",
       "      <td>number annual inpatientdays hospital increased</td>\n",
       "      <td>0.615462</td>\n",
       "    </tr>\n",
       "    <tr>\n",
       "      <th>3</th>\n",
       "      <td>addition consumption tigecycline increased</td>\n",
       "      <td>0.615431</td>\n",
       "    </tr>\n",
       "    <tr>\n",
       "      <th>5</th>\n",
       "      <td>overall plasma concentration cell chemoattractants namely cxc chemokine mig cc chemokine rantes significantly elevated</td>\n",
       "      <td>0.531741</td>\n",
       "    </tr>\n",
       "    <tr>\n",
       "      <th>0</th>\n",
       "      <td>contrast hn infection   plasma tnfa elevated patients</td>\n",
       "      <td>0.531737</td>\n",
       "    </tr>\n",
       "  </tbody>\n",
       "</table>\n",
       "</div>"
      ],
      "text/plain": [
       "                                                                                                                                                                                                                                        Sentence  \\\n",
       "8  low temperature between   c   c small peptide concentration dependence clear temperature correlation whereas high temperature between   c   c strong decrease hwhm presence inclusion depending pl content without variation temperature rise   \n",
       "4                                                                                                                                                     tested antibody following strain titre  assigned value  order allow calculation titre rise   \n",
       "7                                                                                                                                                            asymptomatic atypical presentation covid continue present ed number covid case rise   \n",
       "2                                                                                                                 doctor team reported appreciating ot available help cognitive assessment especially mental capacity concern treatment declined   \n",
       "6                                                                                                                                       conclusion year study single medical institution found use teicoplanin linezolid significantly increased   \n",
       "1                                                                                                                                                                                                 number annual inpatientdays hospital increased   \n",
       "3                                                                                                                                                                                                     addition consumption tigecycline increased   \n",
       "5                                                                                                                         overall plasma concentration cell chemoattractants namely cxc chemokine mig cc chemokine rantes significantly elevated   \n",
       "0                                                                                                                                                                                          contrast hn infection   plasma tnfa elevated patients   \n",
       "\n",
       "   Cosine Similarity  \n",
       "8           0.666299  \n",
       "4           0.666281  \n",
       "7           0.666281  \n",
       "2           0.649984  \n",
       "6           0.615510  \n",
       "1           0.615462  \n",
       "3           0.615431  \n",
       "5           0.531741  \n",
       "0           0.531737  "
      ]
     },
     "execution_count": 30,
     "metadata": {},
     "output_type": "execute_result"
    }
   ],
   "source": [
    "sent1 = similar_sent_finder(0)\n",
    "print(\"Example 1:\" , sentences[0])\n",
    "sent1"
   ]
  },
  {
   "cell_type": "code",
   "execution_count": 22,
   "id": "c7c992b1",
   "metadata": {},
   "outputs": [
    {
     "name": "stdout",
     "output_type": "stream",
     "text": [
      "Example 2: staff undergone online hour training course become qualified coronavirus infection treatment\n"
     ]
    },
    {
     "data": {
      "text/html": [
       "<div>\n",
       "<style scoped>\n",
       "    .dataframe tbody tr th:only-of-type {\n",
       "        vertical-align: middle;\n",
       "    }\n",
       "\n",
       "    .dataframe tbody tr th {\n",
       "        vertical-align: top;\n",
       "    }\n",
       "\n",
       "    .dataframe thead th {\n",
       "        text-align: right;\n",
       "    }\n",
       "</style>\n",
       "<table border=\"1\" class=\"dataframe\">\n",
       "  <thead>\n",
       "    <tr style=\"text-align: right;\">\n",
       "      <th></th>\n",
       "      <th>Sentence</th>\n",
       "      <th>Cosine Similarity</th>\n",
       "    </tr>\n",
       "  </thead>\n",
       "  <tbody>\n",
       "    <tr>\n",
       "      <th>4</th>\n",
       "      <td>rsv virion contains two surface glycoprotein f g vital initial phase infection making critical target rsv treatment</td>\n",
       "      <td>1.0</td>\n",
       "    </tr>\n",
       "    <tr>\n",
       "      <th>7</th>\n",
       "      <td>apart chemokine il also observed elevation monocytemacrophages b chemokine mcp soon onset sars followed decline corticosteroid treatment</td>\n",
       "      <td>1.0</td>\n",
       "    </tr>\n",
       "    <tr>\n",
       "      <th>6</th>\n",
       "      <td>sarscovinfected patient also showed elevation plasma il soon disease onset declined   day corticosteroid treatment</td>\n",
       "      <td>1.0</td>\n",
       "    </tr>\n",
       "    <tr>\n",
       "      <th>9</th>\n",
       "      <td>initiated study comparing plasma cytokine chemokines sars patient without corticosteroid treatment</td>\n",
       "      <td>1.0</td>\n",
       "    </tr>\n",
       "    <tr>\n",
       "      <th>8</th>\n",
       "      <td>measured cytokine chemokines il b  il il ilp tnfa  ifng  rantes mig show significant difference corticosteroid treatment</td>\n",
       "      <td>1.0</td>\n",
       "    </tr>\n",
       "    <tr>\n",
       "      <th>5</th>\n",
       "      <td>lipid based system exhibited safe treatment</td>\n",
       "      <td>1.0</td>\n",
       "    </tr>\n",
       "    <tr>\n",
       "      <th>2</th>\n",
       "      <td>found rrtpcr result several test different time point variable patient course diagnosis treatment</td>\n",
       "      <td>1.0</td>\n",
       "    </tr>\n",
       "    <tr>\n",
       "      <th>1</th>\n",
       "      <td>vns started day ds treatment</td>\n",
       "      <td>1.0</td>\n",
       "    </tr>\n",
       "    <tr>\n",
       "      <th>0</th>\n",
       "      <td>significant possibility hn subtype influenza source next pandemic influenza strain    pathophysiology clinical course hn influenza virus infection identification key objective clinical data crucial piece information help physician provide timely adequate treatment</td>\n",
       "      <td>1.0</td>\n",
       "    </tr>\n",
       "  </tbody>\n",
       "</table>\n",
       "</div>"
      ],
      "text/plain": [
       "                                                                                                                                                                                                                                                                   Sentence  \\\n",
       "4                                                                                                                                                       rsv virion contains two surface glycoprotein f g vital initial phase infection making critical target rsv treatment   \n",
       "7                                                                                                                                  apart chemokine il also observed elevation monocytemacrophages b chemokine mcp soon onset sars followed decline corticosteroid treatment   \n",
       "6                                                                                                                                                        sarscovinfected patient also showed elevation plasma il soon disease onset declined   day corticosteroid treatment   \n",
       "9                                                                                                                                                                        initiated study comparing plasma cytokine chemokines sars patient without corticosteroid treatment   \n",
       "8                                                                                                                                                  measured cytokine chemokines il b  il il ilp tnfa  ifng  rantes mig show significant difference corticosteroid treatment   \n",
       "5                                                                                                                                                                                                                               lipid based system exhibited safe treatment   \n",
       "2                                                                                                                                                                         found rrtpcr result several test different time point variable patient course diagnosis treatment   \n",
       "1                                                                                                                                                                                                                                              vns started day ds treatment   \n",
       "0  significant possibility hn subtype influenza source next pandemic influenza strain    pathophysiology clinical course hn influenza virus infection identification key objective clinical data crucial piece information help physician provide timely adequate treatment   \n",
       "\n",
       "   Cosine Similarity  \n",
       "4                1.0  \n",
       "7                1.0  \n",
       "6                1.0  \n",
       "9                1.0  \n",
       "8                1.0  \n",
       "5                1.0  \n",
       "2                1.0  \n",
       "1                1.0  \n",
       "0                1.0  "
      ]
     },
     "execution_count": 22,
     "metadata": {},
     "output_type": "execute_result"
    }
   ],
   "source": [
    "sent2 = similar_sent_finder(5)\n",
    "print(\"Example 2:\" , sentences[5])\n",
    "sent2"
   ]
  },
  {
   "cell_type": "code",
   "execution_count": 23,
   "id": "b8c0690f",
   "metadata": {},
   "outputs": [
    {
     "name": "stdout",
     "output_type": "stream",
     "text": [
      "Example 3: teaching training mostly translated via online platform excluded opportunity get clinical experience surgery\n"
     ]
    },
    {
     "data": {
      "text/html": [
       "<div>\n",
       "<style scoped>\n",
       "    .dataframe tbody tr th:only-of-type {\n",
       "        vertical-align: middle;\n",
       "    }\n",
       "\n",
       "    .dataframe tbody tr th {\n",
       "        vertical-align: top;\n",
       "    }\n",
       "\n",
       "    .dataframe thead th {\n",
       "        text-align: right;\n",
       "    }\n",
       "</style>\n",
       "<table border=\"1\" class=\"dataframe\">\n",
       "  <thead>\n",
       "    <tr style=\"text-align: right;\">\n",
       "      <th></th>\n",
       "      <th>Sentence</th>\n",
       "      <th>Cosine Similarity</th>\n",
       "    </tr>\n",
       "  </thead>\n",
       "  <tbody>\n",
       "    <tr>\n",
       "      <th>7</th>\n",
       "      <td>surgeon covid dedicated hospital rarely practice surgery</td>\n",
       "      <td>1.000000</td>\n",
       "    </tr>\n",
       "    <tr>\n",
       "      <th>6</th>\n",
       "      <td>icu patient need mechanical ventilation percutaneous tracheostomy endoscopic control mostly performed decrease aerosol formation viral load staff complication associated endotracheal tube comparison surgical tracheostomy</td>\n",
       "      <td>0.634440</td>\n",
       "    </tr>\n",
       "    <tr>\n",
       "      <th>8</th>\n",
       "      <td>surgery benign disorder precancerous lesion reconstructive procedure currently postponed</td>\n",
       "      <td>0.602287</td>\n",
       "    </tr>\n",
       "    <tr>\n",
       "      <th>5</th>\n",
       "      <td>plasmodium falciparum line d pfswib pfswib first thawed established continuous cultivation vitro according standard procedure</td>\n",
       "      <td>0.584318</td>\n",
       "    </tr>\n",
       "    <tr>\n",
       "      <th>2</th>\n",
       "      <td>question designed seek one response respondent suggesting preference total percentage category combined one hundred percent various organization difficulty convincing decision maker invest emergency management nonemergency periods</td>\n",
       "      <td>0.582420</td>\n",
       "    </tr>\n",
       "    <tr>\n",
       "      <th>9</th>\n",
       "      <td>procedure performed mouse anesthesia</td>\n",
       "      <td>0.573576</td>\n",
       "    </tr>\n",
       "    <tr>\n",
       "      <th>4</th>\n",
       "      <td>quickly became clear unmet need infection control support related pandemic team contacted several care home rehabilitation facilities</td>\n",
       "      <td>0.548207</td>\n",
       "    </tr>\n",
       "    <tr>\n",
       "      <th>1</th>\n",
       "      <td>nanoparticles show great potential biomedical application especially patient relapse completing conventional antiviral therapy</td>\n",
       "      <td>0.543088</td>\n",
       "    </tr>\n",
       "    <tr>\n",
       "      <th>0</th>\n",
       "      <td>fatality rate associated pediatric acute respiratory distress syndrome ards decreased recent decade advance medical treatment especially respiratory management lungprotective therapy</td>\n",
       "      <td>0.543003</td>\n",
       "    </tr>\n",
       "  </tbody>\n",
       "</table>\n",
       "</div>"
      ],
      "text/plain": [
       "                                                                                                                                                                                                                                 Sentence  \\\n",
       "7                                                                                                                                                                                surgeon covid dedicated hospital rarely practice surgery   \n",
       "6            icu patient need mechanical ventilation percutaneous tracheostomy endoscopic control mostly performed decrease aerosol formation viral load staff complication associated endotracheal tube comparison surgical tracheostomy   \n",
       "8                                                                                                                                                surgery benign disorder precancerous lesion reconstructive procedure currently postponed   \n",
       "5                                                                                                           plasmodium falciparum line d pfswib pfswib first thawed established continuous cultivation vitro according standard procedure   \n",
       "2  question designed seek one response respondent suggesting preference total percentage category combined one hundred percent various organization difficulty convincing decision maker invest emergency management nonemergency periods   \n",
       "9                                                                                                                                                                                                    procedure performed mouse anesthesia   \n",
       "4                                                                                                   quickly became clear unmet need infection control support related pandemic team contacted several care home rehabilitation facilities   \n",
       "1                                                                                                          nanoparticles show great potential biomedical application especially patient relapse completing conventional antiviral therapy   \n",
       "0                                                  fatality rate associated pediatric acute respiratory distress syndrome ards decreased recent decade advance medical treatment especially respiratory management lungprotective therapy   \n",
       "\n",
       "   Cosine Similarity  \n",
       "7           1.000000  \n",
       "6           0.634440  \n",
       "8           0.602287  \n",
       "5           0.584318  \n",
       "2           0.582420  \n",
       "9           0.573576  \n",
       "4           0.548207  \n",
       "1           0.543088  \n",
       "0           0.543003  "
      ]
     },
     "execution_count": 23,
     "metadata": {},
     "output_type": "execute_result"
    }
   ],
   "source": [
    "sent3 = similar_sent_finder(10)\n",
    "print(\"Example 3:\" , sentences[10])\n",
    "sent3"
   ]
  },
  {
   "cell_type": "code",
   "execution_count": 24,
   "id": "3f3fa746",
   "metadata": {},
   "outputs": [
    {
     "name": "stdout",
     "output_type": "stream",
     "text": [
      "Example 4: patient diagnosed coronavirus infection treated home admitted covid dedicated multidisciplinary hospital surgical care provided\n"
     ]
    },
    {
     "data": {
      "text/html": [
       "<div>\n",
       "<style scoped>\n",
       "    .dataframe tbody tr th:only-of-type {\n",
       "        vertical-align: middle;\n",
       "    }\n",
       "\n",
       "    .dataframe tbody tr th {\n",
       "        vertical-align: top;\n",
       "    }\n",
       "\n",
       "    .dataframe thead th {\n",
       "        text-align: right;\n",
       "    }\n",
       "</style>\n",
       "<table border=\"1\" class=\"dataframe\">\n",
       "  <thead>\n",
       "    <tr style=\"text-align: right;\">\n",
       "      <th></th>\n",
       "      <th>Sentence</th>\n",
       "      <th>Cosine Similarity</th>\n",
       "    </tr>\n",
       "  </thead>\n",
       "  <tbody>\n",
       "    <tr>\n",
       "      <th>6</th>\n",
       "      <td>obtained</td>\n",
       "      <td>0.617160</td>\n",
       "    </tr>\n",
       "    <tr>\n",
       "      <th>4</th>\n",
       "      <td>falciparum d obtained plasmodb httpplasm odb</td>\n",
       "      <td>0.617157</td>\n",
       "    </tr>\n",
       "    <tr>\n",
       "      <th>5</th>\n",
       "      <td>protocol approved clinical research ethic committee chinese university hong kong informed consent obtained participants</td>\n",
       "      <td>0.617156</td>\n",
       "    </tr>\n",
       "    <tr>\n",
       "      <th>2</th>\n",
       "      <td>informed written consent obtained patients</td>\n",
       "      <td>0.617156</td>\n",
       "    </tr>\n",
       "    <tr>\n",
       "      <th>1</th>\n",
       "      <td>patient consent publication obtained</td>\n",
       "      <td>0.617109</td>\n",
       "    </tr>\n",
       "    <tr>\n",
       "      <th>9</th>\n",
       "      <td>two stable transfections pfswibfkbplid integrated parasite clone pfswibc pfswibb obtained</td>\n",
       "      <td>0.617082</td>\n",
       "    </tr>\n",
       "    <tr>\n",
       "      <th>7</th>\n",
       "      <td>patient sample basic clinical data available</td>\n",
       "      <td>0.543192</td>\n",
       "    </tr>\n",
       "    <tr>\n",
       "      <th>8</th>\n",
       "      <td>personal protective equipment including highvis jacket reinforced toe shoe hard hat available</td>\n",
       "      <td>0.543185</td>\n",
       "    </tr>\n",
       "    <tr>\n",
       "      <th>0</th>\n",
       "      <td>major challenge combatting infectious disease sars mers covid including fact effective drug vaccine available</td>\n",
       "      <td>0.543115</td>\n",
       "    </tr>\n",
       "  </tbody>\n",
       "</table>\n",
       "</div>"
      ],
      "text/plain": [
       "                                                                                                                  Sentence  \\\n",
       "6                                                                                                                 obtained   \n",
       "4                                                                             falciparum d obtained plasmodb httpplasm odb   \n",
       "5  protocol approved clinical research ethic committee chinese university hong kong informed consent obtained participants   \n",
       "2                                                                               informed written consent obtained patients   \n",
       "1                                                                                     patient consent publication obtained   \n",
       "9                                two stable transfections pfswibfkbplid integrated parasite clone pfswibc pfswibb obtained   \n",
       "7                                                                             patient sample basic clinical data available   \n",
       "8                            personal protective equipment including highvis jacket reinforced toe shoe hard hat available   \n",
       "0            major challenge combatting infectious disease sars mers covid including fact effective drug vaccine available   \n",
       "\n",
       "   Cosine Similarity  \n",
       "6           0.617160  \n",
       "4           0.617157  \n",
       "5           0.617156  \n",
       "2           0.617156  \n",
       "1           0.617109  \n",
       "9           0.617082  \n",
       "7           0.543192  \n",
       "8           0.543185  \n",
       "0           0.543115  "
      ]
     },
     "execution_count": 24,
     "metadata": {},
     "output_type": "execute_result"
    }
   ],
   "source": [
    "sent4 = similar_sent_finder(15)\n",
    "print(\"Example 4:\" , sentences[15])\n",
    "sent4"
   ]
  },
  {
   "cell_type": "code",
   "execution_count": 25,
   "id": "bbf38954",
   "metadata": {},
   "outputs": [
    {
     "name": "stdout",
     "output_type": "stream",
     "text": [
      "Example 5: moreover observational department organized surgical hospital patient allocation coronavirus infection status defined\n"
     ]
    },
    {
     "data": {
      "text/html": [
       "<div>\n",
       "<style scoped>\n",
       "    .dataframe tbody tr th:only-of-type {\n",
       "        vertical-align: middle;\n",
       "    }\n",
       "\n",
       "    .dataframe tbody tr th {\n",
       "        vertical-align: top;\n",
       "    }\n",
       "\n",
       "    .dataframe thead th {\n",
       "        text-align: right;\n",
       "    }\n",
       "</style>\n",
       "<table border=\"1\" class=\"dataframe\">\n",
       "  <thead>\n",
       "    <tr style=\"text-align: right;\">\n",
       "      <th></th>\n",
       "      <th>Sentence</th>\n",
       "      <th>Cosine Similarity</th>\n",
       "    </tr>\n",
       "  </thead>\n",
       "  <tbody>\n",
       "    <tr>\n",
       "      <th>7</th>\n",
       "      <td>study fipv positive cell isolated pyogranulomas exudate  naturally fipvinfected cat presence two immunologic target viral antigen mhc i surface determined</td>\n",
       "      <td>0.583592</td>\n",
       "    </tr>\n",
       "    <tr>\n",
       "      <th>6</th>\n",
       "      <td>fold change experimental reference group calculated  δδcq</td>\n",
       "      <td>0.568962</td>\n",
       "    </tr>\n",
       "    <tr>\n",
       "      <th>9</th>\n",
       "      <td>two form distinguished</td>\n",
       "      <td>0.546197</td>\n",
       "    </tr>\n",
       "    <tr>\n",
       "      <th>5</th>\n",
       "      <td>consequence negative rrtpcr lead false assumption patient infected sarscov clinical parameter need considered</td>\n",
       "      <td>0.538020</td>\n",
       "    </tr>\n",
       "    <tr>\n",
       "      <th>4</th>\n",
       "      <td>protein expression level might importance context assessed</td>\n",
       "      <td>0.527675</td>\n",
       "    </tr>\n",
       "    <tr>\n",
       "      <th>2</th>\n",
       "      <td>subsequently coexpression ace tmprss nachrs assessed</td>\n",
       "      <td>0.527632</td>\n",
       "    </tr>\n",
       "    <tr>\n",
       "      <th>3</th>\n",
       "      <td>bead incubated  l plasma different cytokine chemokines sample captured corresponding beads</td>\n",
       "      <td>0.525418</td>\n",
       "    </tr>\n",
       "    <tr>\n",
       "      <th>1</th>\n",
       "      <td>phenomenon largely due role medical profession assumed</td>\n",
       "      <td>0.481340</td>\n",
       "    </tr>\n",
       "    <tr>\n",
       "      <th>0</th>\n",
       "      <td>fipv positive cell mhc present showing internalization retention mhc molecule occurs</td>\n",
       "      <td>0.471919</td>\n",
       "    </tr>\n",
       "  </tbody>\n",
       "</table>\n",
       "</div>"
      ],
      "text/plain": [
       "                                                                                                                                                     Sentence  \\\n",
       "7  study fipv positive cell isolated pyogranulomas exudate  naturally fipvinfected cat presence two immunologic target viral antigen mhc i surface determined   \n",
       "6                                                                                                   fold change experimental reference group calculated  δδcq   \n",
       "9                                                                                                                                      two form distinguished   \n",
       "5                                               consequence negative rrtpcr lead false assumption patient infected sarscov clinical parameter need considered   \n",
       "4                                                                                                  protein expression level might importance context assessed   \n",
       "2                                                                                                        subsequently coexpression ace tmprss nachrs assessed   \n",
       "3                                                                  bead incubated  l plasma different cytokine chemokines sample captured corresponding beads   \n",
       "1                                                                                                      phenomenon largely due role medical profession assumed   \n",
       "0                                                                        fipv positive cell mhc present showing internalization retention mhc molecule occurs   \n",
       "\n",
       "   Cosine Similarity  \n",
       "7           0.583592  \n",
       "6           0.568962  \n",
       "9           0.546197  \n",
       "5           0.538020  \n",
       "4           0.527675  \n",
       "2           0.527632  \n",
       "3           0.525418  \n",
       "1           0.481340  \n",
       "0           0.471919  "
      ]
     },
     "execution_count": 25,
     "metadata": {},
     "output_type": "execute_result"
    }
   ],
   "source": [
    "sent5 = similar_sent_finder(20)\n",
    "print(\"Example 5:\" , sentences[20])\n",
    "sent5"
   ]
  },
  {
   "cell_type": "code",
   "execution_count": null,
   "id": "9b51fb4e",
   "metadata": {},
   "outputs": [],
   "source": []
  }
 ],
 "metadata": {
  "kernelspec": {
   "display_name": "Python 3",
   "language": "python",
   "name": "python3"
  },
  "language_info": {
   "codemirror_mode": {
    "name": "ipython",
    "version": 3
   },
   "file_extension": ".py",
   "mimetype": "text/x-python",
   "name": "python",
   "nbconvert_exporter": "python",
   "pygments_lexer": "ipython3",
   "version": "3.8.3"
  }
 },
 "nbformat": 4,
 "nbformat_minor": 5
}
