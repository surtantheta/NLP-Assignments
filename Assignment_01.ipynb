{
 "cells": [
  {
   "cell_type": "code",
   "execution_count": 1,
   "metadata": {
    "id": "0v-KHzIyGUDk"
   },
   "outputs": [],
   "source": [
    "import numpy as np\n",
    "import pandas as pd\n",
    "from os import listdir\n",
    "from os.path import isfile, join\n",
    "import json\n",
    "import time\n",
    "import nltk\n",
    "from nltk.util import ngrams\n",
    "import re\n",
    "from progressbar import ProgressBar\n",
    "from tqdm import tqdm\n",
    "from nltk.tokenize import word_tokenize\n",
    "from nltk.tokenize import sent_tokenize\n",
    "from nltk.tokenize import regexp_tokenize\n",
    "import nltk.data \n",
    "import matplotlib.pyplot as plt\n",
    "import pickle\n",
    "from nltk.corpus import stopwords\n",
    "from nltk.stem.wordnet import WordNetLemmatizer\n",
    "import operator\n"
   ]
  },
  {
   "cell_type": "code",
   "execution_count": 2,
   "metadata": {
    "colab": {
     "base_uri": "https://localhost:8080/"
    },
    "id": "-CfF5QVL4nj_",
    "outputId": "9f3765e3-ea07-4590-bd38-e03a2bef8930"
   },
   "outputs": [
    {
     "name": "stderr",
     "output_type": "stream",
     "text": [
      "[nltk_data] Downloading package punkt to\n",
      "[nltk_data]     C:\\Users\\surta\\AppData\\Roaming\\nltk_data...\n",
      "[nltk_data]   Package punkt is already up-to-date!\n",
      "[nltk_data] Downloading package stopwords to\n",
      "[nltk_data]     C:\\Users\\surta\\AppData\\Roaming\\nltk_data...\n",
      "[nltk_data]   Package stopwords is already up-to-date!\n",
      "[nltk_data] Downloading package wordnet to\n",
      "[nltk_data]     C:\\Users\\surta\\AppData\\Roaming\\nltk_data...\n",
      "[nltk_data]   Package wordnet is already up-to-date!\n"
     ]
    },
    {
     "data": {
      "text/plain": [
       "True"
      ]
     },
     "execution_count": 2,
     "metadata": {},
     "output_type": "execute_result"
    }
   ],
   "source": [
    "# To use sentence and word tokenizers later\n",
    "nltk.download('punkt')\n",
    "nltk.download('stopwords')\n",
    "nltk.download('wordnet')"
   ]
  },
  {
   "cell_type": "markdown",
   "metadata": {
    "id": "5kszIDwbXqAV"
   },
   "source": [
    "### Extracting the data from the json files and storing in drive\n",
    "\n"
   ]
  },
  {
   "cell_type": "code",
   "execution_count": 3,
   "metadata": {
    "id": "p4J0Qc3ETqiu"
   },
   "outputs": [],
   "source": [
    "path = 'C:/Users/surta/Downloads/pdf_json'\n",
    "start = time.time()\n",
    "filenames = [f for f in listdir(path) if isfile(join(path, f))]\n",
    "end = time.time()"
   ]
  },
  {
   "cell_type": "code",
   "execution_count": 4,
   "metadata": {
    "colab": {
     "base_uri": "https://localhost:8080/"
    },
    "id": "HKW15rfyOxON",
    "outputId": "5f043f0e-f91a-4cdd-d8eb-3494c0bc534e"
   },
   "outputs": [
    {
     "name": "stdout",
     "output_type": "stream",
     "text": [
      "The total number of files found:  56528\n"
     ]
    }
   ],
   "source": [
    "# Displaying the total number of json files in the shared drive folder\n",
    "print(\"The total number of files found: \", len(filenames))"
   ]
  },
  {
   "cell_type": "code",
   "execution_count": 5,
   "metadata": {
    "colab": {
     "base_uri": "https://localhost:8080/"
    },
    "id": "j7BoeUQQaEtW",
    "outputId": "7873c986-da0d-4fcc-f9c2-decd3620d878"
   },
   "outputs": [
    {
     "name": "stderr",
     "output_type": "stream",
     "text": [
      "100%|███████████████████████████████████████████████████████████████████████████| 56528/56528 [01:22<00:00, 681.31it/s]\n"
     ]
    }
   ],
   "source": [
    "def extract_text(text):\n",
    "    title_meta = []\n",
    "    title_meta.append(text['metadata']['title'])\n",
    "    text_abstract = [text['abstract'][entry]['text'] for entry in range(len(text['abstract']))]\n",
    "    text_bodytext = [text['body_text'][entry]['text'] for entry in range(len(text['body_text']))]\n",
    "\n",
    "    full_text = title_meta + text_abstract + text_bodytext\n",
    "    return full_text\n",
    "\n",
    "final_text = []\n",
    "for i in tqdm(range(len(filenames))):\n",
    "    file_name = open(path+'/'+filenames[i])\n",
    "    text = json.loads(file_name.read())\n",
    "    final_text.append(extract_text(text))"
   ]
  },
  {
   "cell_type": "code",
   "execution_count": 6,
   "metadata": {
    "id": "_EYcvsjspqWu"
   },
   "outputs": [],
   "source": [
    "final_str_text = [' '.join(final_text[i]) for i in range(len(final_text))]"
   ]
  },
  {
   "cell_type": "markdown",
   "metadata": {
    "id": "yauQk2LVmA6i"
   },
   "source": [
    "Pre-processing steps\n",
    "\n",
    "*   Lower casing\n",
    "*   Remove Stop words\n",
    "\n",
    "*   Remove punctuations like !()-[]{};:'\"\\,<>./?@#$%^&*_~\n",
    "*   Remove website URLs\n",
    "*   Remove non-alphanumeric characters i.e. everything except \n",
    "*   Remove numbers[0-9], letters and _\n",
    "\n",
    "\n",
    "*   Remove strings which look like dates for e.g. **12/23/2016** and times **12:34:56**. Also remove strings which also are **am** or **pm** which are probably part of the preceding time in the source list\n",
    "*   Lemmatization\n",
    "\n",
    "\n"
   ]
  },
  {
   "cell_type": "code",
   "execution_count": 7,
   "metadata": {
    "id": "26ReBUc-tweG"
   },
   "outputs": [],
   "source": [
    "def preprocessing(data):\n",
    "    text_lower = data.lower()\n",
    "\n",
    "    STOPWORDS = set(stopwords.words('english'))\n",
    "    text_stop = \" \".join([word for word in text_lower.split() if word not in STOPWORDS])\n",
    "\n",
    "    text_punc = re.sub(r'[^\\w\\s]', '', text_stop)\n",
    "    text_url = re.sub(r'https?://\\S+|www\\.\\S+', '', text_punc)\n",
    "\n",
    "    text_date = re.sub(r'^(?:(?:[0-9]{2}[:\\/,]){2}[0-9]{2,4}|am|pm)$', '', text_url)\n",
    "    \n",
    "    # removing non-alphanumeric characters\n",
    "    text_alnum = re.sub(r'\\W+', ' ', text_date)\n",
    "\n",
    "    # removing numbers (0-9)\n",
    "    text_number = re.sub(r'[0-9]+', '', text_alnum)\n",
    "    \n",
    "    wordnet_lemmatizer = WordNetLemmatizer()\n",
    "    text_lemma = \" \".join([wordnet_lemmatizer.lemmatize(word) for word in text_number.split(\" \")])\n",
    "\n",
    "    return text_lemma"
   ]
  },
  {
   "cell_type": "code",
   "execution_count": 8,
   "metadata": {},
   "outputs": [
    {
     "name": "stderr",
     "output_type": "stream",
     "text": [
      "[nltk_data] Downloading package omw-1.4 to\n",
      "[nltk_data]     C:\\Users\\surta\\AppData\\Roaming\\nltk_data...\n",
      "[nltk_data]   Package omw-1.4 is already up-to-date!\n"
     ]
    },
    {
     "data": {
      "text/plain": [
       "True"
      ]
     },
     "execution_count": 8,
     "metadata": {},
     "output_type": "execute_result"
    }
   ],
   "source": [
    "import nltk\n",
    "nltk.download('omw-1.4')"
   ]
  },
  {
   "cell_type": "code",
   "execution_count": 9,
   "metadata": {},
   "outputs": [
    {
     "name": "stderr",
     "output_type": "stream",
     "text": [
      "100%|████████████████████████████████████████████████████████████████████████████| 56528/56528 [16:30<00:00, 57.06it/s]\n"
     ]
    }
   ],
   "source": [
    "with open('preprocessed_final_with_dot.txt', 'w', encoding = 'utf8') as f:\n",
    "    for item in tqdm(range(len(final_str_text))):\n",
    "        if item != '':\n",
    "            # temp = ' '.join(item.split())\n",
    "            # to keep one line space between documents\n",
    "            f.write(\"%s\\n\" % preprocessing(final_str_text[item]))"
   ]
  },
  {
   "cell_type": "code",
   "execution_count": 10,
   "metadata": {},
   "outputs": [
    {
     "ename": "MemoryError",
     "evalue": "",
     "output_type": "error",
     "traceback": [
      "\u001b[1;31m---------------------------------------------------------------------------\u001b[0m",
      "\u001b[1;31mMemoryError\u001b[0m                               Traceback (most recent call last)",
      "\u001b[1;32m<ipython-input-10-c3e5f5694490>\u001b[0m in \u001b[0;36m<module>\u001b[1;34m\u001b[0m\n\u001b[0;32m      1\u001b[0m \u001b[1;32mwith\u001b[0m \u001b[0mopen\u001b[0m\u001b[1;33m(\u001b[0m\u001b[1;34m'C:/Users/surta/Downloads/preprocessed_final_with_dot.txt'\u001b[0m\u001b[1;33m,\u001b[0m \u001b[1;34m'r'\u001b[0m\u001b[1;33m,\u001b[0m \u001b[0mencoding\u001b[0m \u001b[1;33m=\u001b[0m \u001b[1;34m\"utf8\"\u001b[0m\u001b[1;33m)\u001b[0m \u001b[1;32mas\u001b[0m \u001b[0mf\u001b[0m\u001b[1;33m:\u001b[0m\u001b[1;33m\u001b[0m\u001b[1;33m\u001b[0m\u001b[0m\n\u001b[1;32m----> 2\u001b[1;33m     \u001b[0mpre_text\u001b[0m \u001b[1;33m=\u001b[0m \u001b[0mf\u001b[0m\u001b[1;33m.\u001b[0m\u001b[0mreadlines\u001b[0m\u001b[1;33m(\u001b[0m\u001b[1;33m)\u001b[0m\u001b[1;33m\u001b[0m\u001b[1;33m\u001b[0m\u001b[0m\n\u001b[0m",
      "\u001b[1;31mMemoryError\u001b[0m: "
     ]
    }
   ],
   "source": [
    "with open('C:/Users/surta/Downloads/preprocessed_final_with_dot.txt', 'r', encoding = \"utf8\") as f:\n",
    "    pre_text = f.readlines()"
   ]
  },
  {
   "cell_type": "code",
   "execution_count": null,
   "metadata": {},
   "outputs": [],
   "source": [
    "assert len(pre_text) == 56528"
   ]
  },
  {
   "cell_type": "code",
   "execution_count": 9,
   "metadata": {},
   "outputs": [
    {
     "ename": "MemoryError",
     "evalue": "",
     "output_type": "error",
     "traceback": [
      "\u001b[1;31m---------------------------------------------------------------------------\u001b[0m",
      "\u001b[1;31mMemoryError\u001b[0m                               Traceback (most recent call last)",
      "\u001b[1;32m<ipython-input-9-3d9877fec83c>\u001b[0m in \u001b[0;36m<module>\u001b[1;34m\u001b[0m\n\u001b[0;32m      5\u001b[0m \u001b[1;33m\u001b[0m\u001b[0m\n\u001b[0;32m      6\u001b[0m \u001b[1;31m# tokenize and build vocab\u001b[0m\u001b[1;33m\u001b[0m\u001b[1;33m\u001b[0m\u001b[1;33m\u001b[0m\u001b[0m\n\u001b[1;32m----> 7\u001b[1;33m \u001b[0mvectorizer\u001b[0m\u001b[1;33m.\u001b[0m\u001b[0mfit\u001b[0m\u001b[1;33m(\u001b[0m\u001b[0mpre_text\u001b[0m\u001b[1;33m)\u001b[0m\u001b[1;33m\u001b[0m\u001b[1;33m\u001b[0m\u001b[0m\n\u001b[0m",
      "\u001b[1;32m~\\anaconda3\\lib\\site-packages\\sklearn\\feature_extraction\\text.py\u001b[0m in \u001b[0;36mfit\u001b[1;34m(self, raw_documents, y)\u001b[0m\n\u001b[0;32m   1167\u001b[0m         \"\"\"\n\u001b[0;32m   1168\u001b[0m         \u001b[0mself\u001b[0m\u001b[1;33m.\u001b[0m\u001b[0m_warn_for_unused_params\u001b[0m\u001b[1;33m(\u001b[0m\u001b[1;33m)\u001b[0m\u001b[1;33m\u001b[0m\u001b[1;33m\u001b[0m\u001b[0m\n\u001b[1;32m-> 1169\u001b[1;33m         \u001b[0mself\u001b[0m\u001b[1;33m.\u001b[0m\u001b[0mfit_transform\u001b[0m\u001b[1;33m(\u001b[0m\u001b[0mraw_documents\u001b[0m\u001b[1;33m)\u001b[0m\u001b[1;33m\u001b[0m\u001b[1;33m\u001b[0m\u001b[0m\n\u001b[0m\u001b[0;32m   1170\u001b[0m         \u001b[1;32mreturn\u001b[0m \u001b[0mself\u001b[0m\u001b[1;33m\u001b[0m\u001b[1;33m\u001b[0m\u001b[0m\n\u001b[0;32m   1171\u001b[0m \u001b[1;33m\u001b[0m\u001b[0m\n",
      "\u001b[1;32m~\\anaconda3\\lib\\site-packages\\sklearn\\feature_extraction\\text.py\u001b[0m in \u001b[0;36mfit_transform\u001b[1;34m(self, raw_documents, y)\u001b[0m\n\u001b[0;32m   1200\u001b[0m         \u001b[0mmax_features\u001b[0m \u001b[1;33m=\u001b[0m \u001b[0mself\u001b[0m\u001b[1;33m.\u001b[0m\u001b[0mmax_features\u001b[0m\u001b[1;33m\u001b[0m\u001b[1;33m\u001b[0m\u001b[0m\n\u001b[0;32m   1201\u001b[0m \u001b[1;33m\u001b[0m\u001b[0m\n\u001b[1;32m-> 1202\u001b[1;33m         vocabulary, X = self._count_vocab(raw_documents,\n\u001b[0m\u001b[0;32m   1203\u001b[0m                                           self.fixed_vocabulary_)\n\u001b[0;32m   1204\u001b[0m \u001b[1;33m\u001b[0m\u001b[0m\n",
      "\u001b[1;32m~\\anaconda3\\lib\\site-packages\\sklearn\\feature_extraction\\text.py\u001b[0m in \u001b[0;36m_count_vocab\u001b[1;34m(self, raw_documents, fixed_vocab)\u001b[0m\n\u001b[0;32m   1123\u001b[0m                     \u001b[1;32mcontinue\u001b[0m\u001b[1;33m\u001b[0m\u001b[1;33m\u001b[0m\u001b[0m\n\u001b[0;32m   1124\u001b[0m \u001b[1;33m\u001b[0m\u001b[0m\n\u001b[1;32m-> 1125\u001b[1;33m             \u001b[0mj_indices\u001b[0m\u001b[1;33m.\u001b[0m\u001b[0mextend\u001b[0m\u001b[1;33m(\u001b[0m\u001b[0mfeature_counter\u001b[0m\u001b[1;33m.\u001b[0m\u001b[0mkeys\u001b[0m\u001b[1;33m(\u001b[0m\u001b[1;33m)\u001b[0m\u001b[1;33m)\u001b[0m\u001b[1;33m\u001b[0m\u001b[1;33m\u001b[0m\u001b[0m\n\u001b[0m\u001b[0;32m   1126\u001b[0m             \u001b[0mvalues\u001b[0m\u001b[1;33m.\u001b[0m\u001b[0mextend\u001b[0m\u001b[1;33m(\u001b[0m\u001b[0mfeature_counter\u001b[0m\u001b[1;33m.\u001b[0m\u001b[0mvalues\u001b[0m\u001b[1;33m(\u001b[0m\u001b[1;33m)\u001b[0m\u001b[1;33m)\u001b[0m\u001b[1;33m\u001b[0m\u001b[1;33m\u001b[0m\u001b[0m\n\u001b[0;32m   1127\u001b[0m             \u001b[0mindptr\u001b[0m\u001b[1;33m.\u001b[0m\u001b[0mappend\u001b[0m\u001b[1;33m(\u001b[0m\u001b[0mlen\u001b[0m\u001b[1;33m(\u001b[0m\u001b[0mj_indices\u001b[0m\u001b[1;33m)\u001b[0m\u001b[1;33m)\u001b[0m\u001b[1;33m\u001b[0m\u001b[1;33m\u001b[0m\u001b[0m\n",
      "\u001b[1;31mMemoryError\u001b[0m: "
     ]
    }
   ],
   "source": [
    "from sklearn.feature_extraction.text import CountVectorizer\n",
    "\n",
    "# Counting frequency of occurence of each word in the corpus\n",
    "vectorizer = CountVectorizer()\n",
    "\n",
    "# tokenize and build vocab\n",
    "vectorizer.fit(pre_text)"
   ]
  },
  {
   "cell_type": "code",
   "execution_count": null,
   "metadata": {},
   "outputs": [],
   "source": [
    "vocab_dict = vectorizer.vocabulary_"
   ]
  },
  {
   "cell_type": "markdown",
   "metadata": {
    "id": "nfkIDjJD_ila"
   },
   "source": [
    "## MANDELBROT APPROXIMATION to calculate alpha"
   ]
  },
  {
   "cell_type": "code",
   "execution_count": null,
   "metadata": {},
   "outputs": [],
   "source": [
    "rank_df = pd.DataFrame(list(vocab_dict.items()), columns = ['Word', 'Frequency'])\n",
    "rank_df.sort_values(by = ['Frequency'], inplace = True, ascending = False)\n",
    "rank_df['Rank'] = list(range(1, len(rank_df) + 1))"
   ]
  },
  {
   "cell_type": "code",
   "execution_count": null,
   "metadata": {},
   "outputs": [],
   "source": [
    "rank = 1\n",
    "beta = 2.7\n",
    "rank_df['Alpha'] = -np.log2(rank_df['Frequency']) // np.log2(rank_df['Rank'] + beta)"
   ]
  },
  {
   "cell_type": "code",
   "execution_count": null,
   "metadata": {},
   "outputs": [],
   "source": [
    "rank_df.head()"
   ]
  },
  {
   "cell_type": "code",
   "execution_count": null,
   "metadata": {},
   "outputs": [],
   "source": [
    "rank_df.to_csv('rank_dataframe.csv')"
   ]
  },
  {
   "cell_type": "code",
   "execution_count": null,
   "metadata": {
    "colab": {
     "base_uri": "https://localhost:8080/"
    },
    "id": "hIP80mnTA4MF",
    "outputId": "db190975-5e69-43b5-ac47-1415690647d9"
   },
   "outputs": [],
   "source": [
    "print(\"The average value of alpha is\", rank_df['Alpha'].mean())"
   ]
  },
  {
   "cell_type": "markdown",
   "metadata": {},
   "source": [
    "##### The average value of alpha is -1.5"
   ]
  },
  {
   "cell_type": "code",
   "execution_count": 18,
   "metadata": {},
   "outputs": [],
   "source": [
    "combined_text = ' '.join(pre_text)"
   ]
  },
  {
   "cell_type": "code",
   "execution_count": 19,
   "metadata": {
    "id": "XvuQPRtaPazB"
   },
   "outputs": [
    {
     "name": "stderr",
     "output_type": "stream",
     "text": [
      "146477542it [08:02, 303761.59it/s]\n"
     ]
    }
   ],
   "source": [
    "vocab_list = []\n",
    "words_list = []\n",
    "vocab = set()\n",
    "for num_word, word in tqdm(enumerate(list(combined_text.split(\" \")))):\n",
    "    if word not in vocab: # to keep track of the vocabulary\n",
    "        vocab.add(word)\n",
    "\n",
    "    if num_word % 10000 == 0:\n",
    "        words_list.append(num_word + 1)\n",
    "        vocab_list.append(len(vocab))"
   ]
  },
  {
   "cell_type": "markdown",
   "metadata": {
    "id": "Qy2OTFZWZi6f"
   },
   "source": [
    "### Plot to verify Heap's law"
   ]
  },
  {
   "cell_type": "markdown",
   "metadata": {
    "id": "WoBLHovcnkDS"
   },
   "source": [
    "#### **Heap's law**:  $M = kT^b$, \n",
    "where M = Estimated vocabulary, T = Number of tokens, k and b are constants associated with the law.\n",
    "\n",
    "Now, $M = kT^b \\implies log(M) = log(k) + b \\times log(T)$\n",
    "\n",
    "We will plot log(M) vs log(T), for both actual and estimated values of M."
   ]
  },
  {
   "cell_type": "markdown",
   "metadata": {
    "id": "-oFowmdNzWij"
   },
   "source": [
    "#### Estimating the parameters (k and b) based on the data\n",
    "\n"
   ]
  },
  {
   "cell_type": "markdown",
   "metadata": {
    "id": "XaRJxuVt7GIn"
   },
   "source": [
    "We take the first two pairs of observed values to estimate b and k"
   ]
  },
  {
   "cell_type": "code",
   "execution_count": 20,
   "metadata": {
    "id": "hvuMqtt7I_5J"
   },
   "outputs": [],
   "source": [
    "# converting to logs\n",
    "log_M = np.log(vocab_list)\n",
    "log_T = np.log(words_list)"
   ]
  },
  {
   "cell_type": "code",
   "execution_count": 21,
   "metadata": {
    "colab": {
     "base_uri": "https://localhost:8080/"
    },
    "id": "J7IMhO6jI_8C",
    "outputId": "3ab68cab-5c42-496a-a59c-c114b3d69b3c"
   },
   "outputs": [
    {
     "name": "stdout",
     "output_type": "stream",
     "text": [
      "b =  0.8586728129894433 , log(k) =  0.0\n"
     ]
    }
   ],
   "source": [
    "# estimating parameters based on first two values\n",
    "b = (log_M[1] - log_M[0]) / (log_T[1] - log_T[0])\n",
    "log_k = log_M[1] - b * log_T[1]\n",
    "\n",
    "# displaying the estimated parameters\n",
    "print(\"b = \", b,\", log(k) = \",log_k)"
   ]
  },
  {
   "cell_type": "code",
   "execution_count": 22,
   "metadata": {
    "id": "L1R4zZWT8Whj"
   },
   "outputs": [],
   "source": [
    "# estimating the vocabulary by Heap's law\n",
    "estimated_vocab = []\n",
    "\n",
    "# to estimate vocabulary using Heap's law\n",
    "for i in log_T:\n",
    "    estimated_vocab.append(log_k + b * i)"
   ]
  },
  {
   "cell_type": "code",
   "execution_count": 23,
   "metadata": {
    "colab": {
     "base_uri": "https://localhost:8080/",
     "height": 295
    },
    "id": "kliN0hFxJVVI",
    "outputId": "0bc9847e-4e89-46be-cd16-35fb075466c1"
   },
   "outputs": [
    {
     "data": {
      "image/png": "[encoded data removed]",
      "text/plain": [
       "<Figure size 640x480 with 1 Axes>"
      ]
     },
     "metadata": {},
     "output_type": "display_data"
    }
   ],
   "source": [
    "# plotting the graph of actual vocabulary values and the estimated vocabulary values (Heap's law)\n",
    "plt.plot(log_T, log_M, label = \"Actual\")\n",
    "plt.plot(log_T, estimated_vocab, label = \"Estimated\")\n",
    "plt.xlabel(\"Log of number of tokens\")\n",
    "plt.ylabel(\"Log of vocabulary count\")\n",
    "plt.title(\"Plot to show the actual and the estimated vocabulary counts\")\n",
    "plt.legend()\n",
    "plt.show()"
   ]
  },
  {
   "cell_type": "markdown",
   "metadata": {
    "id": "VwNabFCL6Lbn"
   },
   "source": [
    "#### We can clearly see that the estimated curve is a straight line but the actual curve sort of deviates from the line. This could be due to the fact that we have estimated the parameters of Heap's law based on the first two observations.  "
   ]
  },
  {
   "cell_type": "markdown",
   "metadata": {
    "id": "r1RWEq06zcMX"
   },
   "source": [
    "#### Fixing the parameters (k and b) based on existing literature"
   ]
  },
  {
   "cell_type": "markdown",
   "metadata": {
    "id": "wegFuxBD0v2z"
   },
   "source": [
    "We take k = 45 and b = 0.499"
   ]
  },
  {
   "cell_type": "code",
   "execution_count": 24,
   "metadata": {
    "id": "Chq2_rg7snzZ"
   },
   "outputs": [],
   "source": [
    "# k and b values based on existing literature\n",
    "log_k = np.log(45)\n",
    "b = 0.499\n",
    "\n",
    "estimated_vocab = []\n",
    "# to estimate vocabulary using Heap's law\n",
    "for i in log_T:\n",
    "    estimated_vocab.append(log_k + b * i)"
   ]
  },
  {
   "cell_type": "code",
   "execution_count": 25,
   "metadata": {
    "colab": {
     "base_uri": "https://localhost:8080/",
     "height": 295
    },
    "id": "ELcAypDds7ZU",
    "outputId": "6dd77af5-4d88-47ab-ab36-4cb1a825b25b"
   },
   "outputs": [
    {
     "data": {
      "image/png": "[encoded data removed]",
      "text/plain": [
       "<Figure size 640x480 with 1 Axes>"
      ]
     },
     "metadata": {},
     "output_type": "display_data"
    }
   ],
   "source": [
    "# plotting the graph of actual vocabulary values and the estimated vocabulary values (Heap's law)\n",
    "plt.plot(log_T, log_M, label = \"Actual\")\n",
    "plt.plot(log_T, estimated_vocab, label = \"Estimated\")\n",
    "plt.xlabel(\"Log of number of tokens\")\n",
    "plt.ylabel(\"Log of vocabulary count\")\n",
    "plt.title(\"Plot to show the actual and the estimated vocabulary counts\")\n",
    "plt.legend()\n",
    "plt.show()"
   ]
  },
  {
   "cell_type": "markdown",
   "metadata": {
    "id": "FtB6CcoO6mk5"
   },
   "source": [
    "#### Even here the estimated curve is a straight line but the actual curve sort of deviates from the line on either side. This can be attributed to the data we have taken as Heap's law provides a rough estimate and cannot predict with certainty. "
   ]
  },
  {
   "cell_type": "code",
   "execution_count": null,
   "metadata": {
    "id": "l0X1V6NwShNN"
   },
   "outputs": [],
   "source": []
  }
 ],
 "metadata": {
  "colab": {
   "collapsed_sections": [],
   "name": "NLP_Assignment_1.ipynb",
   "provenance": []
  },
  "kernelspec": {
   "display_name": "Python 3",
   "language": "python",
   "name": "python3"
  },
  "language_info": {
   "codemirror_mode": {
    "name": "ipython",
    "version": 3
   },
   "file_extension": ".py",
   "mimetype": "text/x-python",
   "name": "python",
   "nbconvert_exporter": "python",
   "pygments_lexer": "ipython3",
   "version": "3.8.3"
  }
 },
 "nbformat": 4,
 "nbformat_minor": 1
}
