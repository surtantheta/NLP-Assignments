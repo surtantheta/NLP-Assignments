{
 "cells": [
  {
   "cell_type": "code",
   "execution_count": 1,
   "metadata": {
    "id": "lOsbsiTs8wV4"
   },
   "outputs": [
    {
     "name": "stderr",
     "output_type": "stream",
     "text": [
      "C:\\Users\\surta\\anaconda3\\lib\\site-packages\\gensim\\similarities\\__init__.py:15: UserWarning: The gensim.similarities.levenshtein submodule is disabled, because the optional Levenshtein package <https://pypi.org/project/python-Levenshtein/> is unavailable. Install Levenhstein (e.g. `pip install python-Levenshtein`) to suppress this warning.\n",
      "  warnings.warn(msg)\n"
     ]
    }
   ],
   "source": [
    "import numpy as np\n",
    "import pandas as pd\n",
    "from nltk.util import ngrams\n",
    "from os import listdir\n",
    "from os.path import isfile, join\n",
    "import json\n",
    "import time\n",
    "import nltk\n",
    "import re\n",
    "from progressbar import ProgressBar\n",
    "from tqdm import tqdm\n",
    "from nltk.tokenize import word_tokenize\n",
    "from nltk.tokenize import sent_tokenize\n",
    "from nltk.tokenize import regexp_tokenize\n",
    "import nltk.data \n",
    "import matplotlib.pyplot as plt\n",
    "import pickle\n",
    "from nltk.corpus import stopwords\n",
    "from nltk.stem.wordnet import WordNetLemmatizer\n",
    "import operator\n",
    "import gensim\n",
    "from gensim.models import word2vec\n",
    "import logging\n",
    "from sklearn.decomposition import TruncatedSVD\n",
    "from sklearn.decomposition import PCA\n",
    "import scipy.sparse\n",
    "from sklearn.feature_extraction.text import TfidfVectorizer \n",
    "\n",
    "%matplotlib inline"
   ]
  },
  {
   "cell_type": "code",
   "execution_count": 2,
   "metadata": {
    "colab": {
     "base_uri": "https://localhost:8080/"
    },
    "id": "-CfF5QVL4nj_",
    "outputId": "70bd20b0-a8f3-4dad-e769-6231f8531b04"
   },
   "outputs": [
    {
     "name": "stderr",
     "output_type": "stream",
     "text": [
      "[nltk_data] Downloading package punkt to\n",
      "[nltk_data]     C:\\Users\\surta\\AppData\\Roaming\\nltk_data...\n",
      "[nltk_data]   Package punkt is already up-to-date!\n",
      "[nltk_data] Downloading package stopwords to\n",
      "[nltk_data]     C:\\Users\\surta\\AppData\\Roaming\\nltk_data...\n",
      "[nltk_data]   Package stopwords is already up-to-date!\n",
      "[nltk_data] Downloading package wordnet to\n",
      "[nltk_data]     C:\\Users\\surta\\AppData\\Roaming\\nltk_data...\n",
      "[nltk_data]   Package wordnet is already up-to-date!\n"
     ]
    },
    {
     "data": {
      "text/plain": [
       "True"
      ]
     },
     "execution_count": 2,
     "metadata": {},
     "output_type": "execute_result"
    }
   ],
   "source": [
    "# To use sentence and word tokenizers later\n",
    "nltk.download('punkt')\n",
    "nltk.download('stopwords')\n",
    "nltk.download('wordnet')"
   ]
  },
  {
   "cell_type": "code",
   "execution_count": 3,
   "metadata": {
    "id": "KRY8POcaVduf"
   },
   "outputs": [],
   "source": [
    "with open('C:/Users/surta/Downloads/preprocessed_final_with_dot.txt', 'r', encoding=\"utf8\") as f:\n",
    "    pre_text = f.readlines()"
   ]
  },
  {
   "cell_type": "code",
   "execution_count": 4,
   "metadata": {},
   "outputs": [],
   "source": [
    "# Considering first 10,000 documents \n",
    "\n",
    "pre_text = pre_text[:10000]"
   ]
  },
  {
   "cell_type": "code",
   "execution_count": 5,
   "metadata": {},
   "outputs": [],
   "source": [
    "# As Stated in COALS Algorithm, columns representing low-frequency words tend to be noisier. \n",
    "# Hence we consider 14,000 columns representing high-frequency words.\n",
    "# For this purpose, we have TF-IDF to find such words.\n",
    "\n",
    "vectorizer = TfidfVectorizer() \n",
    "tfidf = vectorizer.fit(pre_text) \n",
    "idf_scores = tfidf.idf_\n",
    "\n",
    "feature_array = np.array(tfidf.get_feature_names())\n",
    "tfidf_sorting = np.argsort(idf_scores)\n",
    "\n",
    "n = 14000\n",
    "top_n = feature_array[tfidf_sorting][:n]"
   ]
  },
  {
   "cell_type": "code",
   "execution_count": 6,
   "metadata": {},
   "outputs": [
    {
     "data": {
      "text/plain": [
       "array(['also', 'study', 'may', ..., 'outdated', 'dock', 'outgrowth'],\n",
       "      dtype='<U155')"
      ]
     },
     "execution_count": 6,
     "metadata": {},
     "output_type": "execute_result"
    }
   ],
   "source": [
    "# High freqeuncy words\n",
    "top_n"
   ]
  },
  {
   "cell_type": "code",
   "execution_count": 8,
   "metadata": {},
   "outputs": [
    {
     "name": "stderr",
     "output_type": "stream",
     "text": [
      "100%|██████████████████████████████████████████████████████████████████████████████| 1000/1000 [16:38<00:00,  1.00it/s]\n"
     ]
    }
   ],
   "source": [
    "filtered_text_list =filtered_text_list = []\n",
    "for text in tqdm(pre_text):\n",
    "    text_word_list = [word for word in text.split() if word in top_n]\n",
    "    filtered_text_list.append(' '.join(text_word_list))"
   ]
  },
  {
   "cell_type": "code",
   "execution_count": 7,
   "metadata": {},
   "outputs": [
    {
     "name": "stderr",
     "output_type": "stream",
     "text": [
      "100%|██████████████████████████████████████████████████████████████████████████| 10000/10000 [1:25:02<00:00,  1.96it/s]\n"
     ]
    }
   ],
   "source": [
    "with open('preprocessed_clean_final.txt', 'w', encoding = \"utf8\") as f:\n",
    "    for item in tqdm(range(len(pre_text))):\n",
    "        if item != '':\n",
    "            # temp = ' '.join(item.split())\n",
    "            # to keep one line space between documents\n",
    "            f.write(\"%s\\n\" % ' '.join([word for word in pre_text[item].split(\" \") if word in top_n]))"
   ]
  },
  {
   "cell_type": "code",
   "execution_count": 11,
   "metadata": {},
   "outputs": [],
   "source": [
    "with open('C:/Users/surta/Downloads/preprocessed_clean_final.txt', 'r', encoding=\"utf8\") as f:\n",
    "    filtered_text_list = f.readlines()"
   ]
  },
  {
   "cell_type": "code",
   "execution_count": 7,
   "metadata": {
    "id": "8LAjLPh2crK1"
   },
   "outputs": [],
   "source": [
    "def distinct_words(corpus):\n",
    "    \"\"\" Determine a list of distinct words for the corpus.\n",
    "        Params:\n",
    "            corpus (list of list of strings): corpus of documents\n",
    "        Return:\n",
    "            corpus_words (list of strings): list of distinct words across the corpus, sorted (using python 'sorted' function)\n",
    "            num_corpus_words (integer): number of distinct words across the corpus\n",
    "    \"\"\"\n",
    "    \n",
    "   \n",
    "    corpus_words = sorted(list(set([word for words_list in corpus for word in words_list.split()])))\n",
    "    num_corpus_words = len(corpus_words)\n",
    "        \n",
    "    # ------------------\n",
    "\n",
    "    return corpus_words, num_corpus_words"
   ]
  },
  {
   "cell_type": "markdown",
   "metadata": {},
   "source": [
    "### Co-occurence Matrix with a fixed window size"
   ]
  },
  {
   "cell_type": "code",
   "execution_count": 8,
   "metadata": {
    "id": "-FDtCaVc5LVH"
   },
   "outputs": [],
   "source": [
    "# Computing the co-occurence matrix with a default wi\n",
    "ndow size = 4\n",
    "\n",
    "def compute_co_occurrence_matrix(corpus, window_size = 4):\n",
    "    \"\"\" Compute co-occurrence matrix for the given corpus and window_size (default of 4).\n",
    "    \n",
    "        Note: Each word in a document should be at the center of a window. Words near edges will have a smaller\n",
    "              number of co-occurring words.\n",
    "    \n",
    "        Params:\n",
    "            corpus (list of list of strings): corpus of documents\n",
    "            window_size (int): size of context window\n",
    "        Return:\n",
    "            M (numpy matrix of shape (number of corpus words, number of corpus words)): \n",
    "                Co-occurence matrix of word counts. \n",
    "                The ordering of the words in the rows/columns should be the same as the ordering of the words given by the distinct_words function.\n",
    "            word2Ind (dict): dictionary that maps word to index (i.e. row/column number) for matrix M.\n",
    "    \"\"\"\n",
    "    words, num_words = distinct_words(corpus)\n",
    "    M = None\n",
    "    word2Ind = {}\n",
    "\n",
    "    M = np.zeros((num_words, num_words))\n",
    "    word2Ind = dict(zip(words, range(num_words)))\n",
    "    for doc in tqdm(corpus):\n",
    "        current_idx = 0\n",
    "        words = doc.split(\" \")\n",
    "        doc_len = len(words)\n",
    "        while current_idx < doc_len:\n",
    "            left_boudary = max(current_idx - window_size, 0)\n",
    "            right_boundary = min(current_idx + window_size + 1, doc_len)\n",
    "            outside_words = \" \".join(words[left_boudary:current_idx]) +\" \"+\" \".join(words[current_idx+1:right_boundary])\n",
    "            center_word = words[current_idx].strip()\n",
    "            if center_word != '':\n",
    "                center_idx = word2Ind[center_word]\n",
    "            \n",
    "            outside_words_split = outside_words.strip().split(\" \")\n",
    "\n",
    "            for outside_word in outside_words_split:\n",
    "                if outside_word != '':\n",
    "                    outside_idx = word2Ind[outside_word]\n",
    "                    M[outside_idx, center_idx] += 1\n",
    "            \n",
    "            current_idx += 1\n",
    "            \n",
    "    return M, word2Ind"
   ]
  },
  {
   "cell_type": "code",
   "execution_count": 12,
   "metadata": {
    "id": "boy2bNmI5l0v"
   },
   "outputs": [
    {
     "name": "stderr",
     "output_type": "stream",
     "text": [
      "100%|████████████████████████████████████████████████████████████████████████████| 10000/10000 [02:04<00:00, 80.48it/s]\n"
     ]
    }
   ],
   "source": [
    "M_co_occurrence, word2Ind_co_occurrence = compute_co_occurrence_matrix(filtered_text_list)"
   ]
  },
  {
   "cell_type": "code",
   "execution_count": 13,
   "metadata": {},
   "outputs": [
    {
     "data": {
      "text/plain": [
       "array([[8.100e+02, 8.000e+00, 4.000e+01, ..., 1.100e+01, 5.000e+00,\n",
       "        4.000e+00],\n",
       "       [8.000e+00, 1.020e+02, 0.000e+00, ..., 0.000e+00, 0.000e+00,\n",
       "        0.000e+00],\n",
       "       [4.000e+01, 0.000e+00, 7.280e+02, ..., 4.000e+00, 1.000e+00,\n",
       "        3.000e+00],\n",
       "       ...,\n",
       "       [1.100e+01, 0.000e+00, 4.000e+00, ..., 3.140e+02, 1.500e+01,\n",
       "        2.200e+01],\n",
       "       [5.000e+00, 0.000e+00, 1.000e+00, ..., 1.500e+01, 8.060e+02,\n",
       "        9.500e+01],\n",
       "       [4.000e+00, 0.000e+00, 3.000e+00, ..., 2.200e+01, 9.500e+01,\n",
       "        1.098e+03]])"
      ]
     },
     "execution_count": 13,
     "metadata": {},
     "output_type": "execute_result"
    }
   ],
   "source": [
    "M_co_occurrence"
   ]
  },
  {
   "cell_type": "markdown",
   "metadata": {},
   "source": [
    "### Computing correlation matrix"
   ]
  },
  {
   "cell_type": "code",
   "execution_count": 14,
   "metadata": {},
   "outputs": [],
   "source": [
    "def compute_correlation_matrix(C):\n",
    "    \"\"\"Tranform a counts matrix to correlation matrix.\n",
    "    \n",
    "    Args:\n",
    "      C: co-occurence matrix of counts C_ij\n",
    "    \n",
    "    Returns:\n",
    "      scipy.sparse.csc_matrix\n",
    "    \"\"\"\n",
    "    # Total count\n",
    "    Z = float(C.sum())\n",
    "\n",
    "    # Sum each row (along columns)\n",
    "    Zr = np.array(C.sum(axis=1), dtype=np.float64).flatten()\n",
    "    \n",
    "    # Get indices of relevant elements\n",
    "    ii, jj = C.nonzero()  # row, column indices\n",
    "    Cij = np.array(C[ii,jj], dtype=np.float64).flatten()\n",
    "    \n",
    "    # Correlation equation.\n",
    "    corr = ((Cij * Z)-(Zr[ii] * Zr[jj]))/np.sqrt(Zr[ii]*(Z - Zr[ii])*(Zr[jj]*(Z - Zr[jj])))\n",
    "\n",
    "    # Truncate to positive only\n",
    "    ppmi = np.maximum(0, corr)  # take positive only\n",
    "    \n",
    "    # Re-format as sparse matrix\n",
    "    ret = scipy.sparse.csc_matrix((ppmi, (ii,jj)), shape=C.shape,\n",
    "                                  dtype=np.float64)\n",
    "    ret.eliminate_zeros()  # remove zeros\n",
    "    \n",
    "    return ret\n"
   ]
  },
  {
   "cell_type": "code",
   "execution_count": 15,
   "metadata": {},
   "outputs": [],
   "source": [
    "M_corr = compute_correlation_matrix(M_co_occurrence)"
   ]
  },
  {
   "cell_type": "code",
   "execution_count": 16,
   "metadata": {},
   "outputs": [
    {
     "data": {
      "text/plain": [
       "array([[4.50180520e-02, 1.39333550e-03, 1.85350250e-03, ...,\n",
       "        8.88838647e-04, 1.80120613e-04, 1.02495902e-04],\n",
       "       [1.39333550e-03, 5.84754778e-02, 0.00000000e+00, ...,\n",
       "        0.00000000e+00, 0.00000000e+00, 0.00000000e+00],\n",
       "       [1.85350250e-03, 0.00000000e+00, 3.20432797e-02, ...,\n",
       "        2.28169165e-04, 0.00000000e+00, 1.45792239e-05],\n",
       "       ...,\n",
       "       [8.88838647e-04, 0.00000000e+00, 2.28169165e-04, ...,\n",
       "        4.31992038e-02, 1.30711097e-03, 1.83629274e-03],\n",
       "       [1.80120613e-04, 0.00000000e+00, 0.00000000e+00, ...,\n",
       "        1.30711097e-03, 4.93128849e-02, 5.39497458e-03],\n",
       "       [1.02495902e-04, 0.00000000e+00, 1.45792239e-05, ...,\n",
       "        1.83629274e-03, 5.39497458e-03, 6.00784044e-02]])"
      ]
     },
     "execution_count": 16,
     "metadata": {},
     "output_type": "execute_result"
    }
   ],
   "source": [
    "M_corr.toarray()"
   ]
  },
  {
   "cell_type": "markdown",
   "metadata": {
    "id": "3GIuHJNSkupE"
   },
   "source": [
    "### COAL + SVD"
   ]
  },
  {
   "cell_type": "code",
   "execution_count": 17,
   "metadata": {
    "id": "x01B9vPg5r4U"
   },
   "outputs": [],
   "source": [
    "def reduce_to_k_dim(M, k=2):\n",
    "    \"\"\" Reduce a co-occurence count matrix of dimensionality (num_corpus_words, num_corpus_words)\n",
    "        to a matrix of dimensionality (num_corpus_words, k) using the following SVD function from Scikit-Learn:\n",
    "            - http://scikit-learn.org/stable/modules/generated/sklearn.decomposition.TruncatedSVD.html\n",
    "    \n",
    "        Params:\n",
    "            M (numpy matrix of shape (number of corpus words, number of corpus words)): co-occurence matrix of word counts\n",
    "            k (int): embedding size of each word after dimension reduction\n",
    "        Return:\n",
    "            M_reduced (numpy matrix of shape (number of corpus words, k)): matrix of k-dimensioal word embeddings.\n",
    "                    In terms of the SVD from math class, this actually returns U * S\n",
    "    \"\"\"    \n",
    "    n_iters = 1     # Use this parameter in your call to `TruncatedSVD`\n",
    "    M_reduced = None\n",
    "    print(\"Running Truncated SVD over %i words...\" % (M.shape[0]))\n",
    "    \n",
    "    svd = TruncatedSVD(n_components = k, n_iter=n_iters)\n",
    "    M_reduced = svd.fit_transform(M)\n",
    "        \n",
    "    return M_reduced"
   ]
  },
  {
   "cell_type": "code",
   "execution_count": 18,
   "metadata": {
    "colab": {
     "base_uri": "https://localhost:8080/"
    },
    "id": "4Uo9rOu15-fa",
    "outputId": "bbd23269-024f-41b5-e6c4-07add631e672"
   },
   "outputs": [
    {
     "name": "stdout",
     "output_type": "stream",
     "text": [
      "Running Truncated SVD over 13356 words...\n"
     ]
    }
   ],
   "source": [
    "M_reduced_co_occurrence = reduce_to_k_dim(M_corr.toarray(), k = 50)"
   ]
  },
  {
   "cell_type": "code",
   "execution_count": 47,
   "metadata": {
    "id": "2ioRNOBVKhel"
   },
   "outputs": [],
   "source": [
    "def plot_embeddings(M_reduced, word2Ind, words):\n",
    "    \"\"\" Plot in a scatterplot the embeddings of the words specified in the list \"words\".\n",
    "        NOTE: do not plot all the words listed in M_reduced / word2Ind.\n",
    "        Include a label next to each point.\n",
    "        \n",
    "        Params:\n",
    "            M_reduced (numpy matrix of shape (number of unique words in the corpus , k)): matrix of k-dimensioal word embeddings\n",
    "            word2Ind (dict): dictionary that maps word to indices for matrix M\n",
    "            words (list of strings): words whose embeddings we want to visualize\n",
    "    \"\"\"\n",
    "    x_coords = M_reduced[:, 0]\n",
    "    y_coords = M_reduced[:, 1]\n",
    "    for word in words:\n",
    "        idx = word2Ind[word]\n",
    "        embedding = M_reduced[idx]\n",
    "        x = embedding[0]\n",
    "        y = embedding[1]\n",
    "        plt.scatter(x, y, marker='x', color='red')\n",
    "        plt.text(x, y, word, fontsize = 9)\n",
    "        plt.title(\"Plot visualizing word embeddings from COAL+SVD\")\n",
    "    # ------------------"
   ]
  },
  {
   "cell_type": "code",
   "execution_count": 48,
   "metadata": {
    "colab": {
     "base_uri": "https://localhost:8080/",
     "height": 265
    },
    "id": "qPiKQo7J9OVc",
    "outputId": "883ead05-acd9-4fc6-b704-a193b67dd7c3"
   },
   "outputs": [
    {
     "data": {
      "image/png": "[encoded data removed]",
      "text/plain": [
       "<Figure size 432x288 with 1 Axes>"
      ]
     },
     "metadata": {
      "needs_background": "light"
     },
     "output_type": "display_data"
    }
   ],
   "source": [
    "# Rescale (normalize) the rows to make them each of unit-length\n",
    "\n",
    "M_lengths = np.linalg.norm(M_reduced_co_occurrence, axis = 1)\n",
    "M_normalized = M_reduced_co_occurrence / M_lengths[:, np.newaxis] # broadcasting\n",
    "\n",
    "words = ['vaccine', 'china', 'mutation', 'virus', 'health', 'disease', 'swine', 'migrant', 'herd', 'illness']\n",
    "plot_embeddings(M_normalized, word2Ind_co_occurrence, words)"
   ]
  },
  {
   "cell_type": "markdown",
   "metadata": {
    "id": "i2Ykdr0oYvZ7"
   },
   "source": [
    "## Building Word2Vec model\n"
   ]
  },
  {
   "cell_type": "code",
   "execution_count": 22,
   "metadata": {},
   "outputs": [
    {
     "name": "stderr",
     "output_type": "stream",
     "text": [
      "100%|███████████████████████████████████████████████████████████████████████████| 10000/10000 [01:02<00:00, 161.12it/s]\n"
     ]
    }
   ],
   "source": [
    "CONTEXT_SIZE = 3\n",
    "\n",
    "ngrams = []\n",
    "for doc in tqdm(filtered_text_list):\n",
    "    words = doc.split()\n",
    "    for i in range(len(words) - CONTEXT_SIZE):\n",
    "        tup = [words[j] for j in np.arange(i , i + CONTEXT_SIZE) ]\n",
    "        ngrams.append((tup, words[i + CONTEXT_SIZE]))"
   ]
  },
  {
   "cell_type": "code",
   "execution_count": 23,
   "metadata": {},
   "outputs": [],
   "source": [
    "vocab,_ = distinct_words(filtered_text_list)\n",
    "word_to_ix = {word: i for i, word in enumerate(vocab)}"
   ]
  },
  {
   "cell_type": "code",
   "execution_count": 24,
   "metadata": {},
   "outputs": [
    {
     "name": "stderr",
     "output_type": "stream",
     "text": [
      "100%|████████████████████████████████████████████████████████████████████████████████| 100/100 [19:33<00:00, 11.74s/it]\n"
     ]
    }
   ],
   "source": [
    "import torch\n",
    "import torch.nn as nn\n",
    "import torch.nn.functional as F\n",
    "import torch.optim as optim\n",
    "import numpy as np\n",
    "import urllib.request\n",
    "from nltk.tokenize import RegexpTokenizer\n",
    "from nltk.corpus import stopwords\n",
    "from nltk import word_tokenize\n",
    "import sklearn\n",
    "from sklearn.cluster import KMeans\n",
    "from sklearn.metrics.pairwise import euclidean_distances\n",
    "\n",
    "torch.manual_seed(1)\n",
    "\n",
    "EMBEDDING_DIM = 50\n",
    "num_epochs = 100\n",
    "\n",
    "class CBOWModeler(nn.Module):\n",
    "\n",
    "    def __init__(self, vocab_size, embedding_dim, context_size):\n",
    "        super(CBOWModeler, self).__init__()\n",
    "        self.embeddings = nn.Embedding(vocab_size, embedding_dim)\n",
    "        self.linear1 = nn.Linear(context_size * embedding_dim, 128)\n",
    "        self.linear2 = nn.Linear(128, vocab_size)\n",
    "\n",
    "    def forward(self, inputs):\n",
    "        embeds = self.embeddings(inputs).view((1, -1))  # -1 implies size inferred for that index from the size of the data\n",
    "        out1 = F.relu(self.linear1(embeds)) # output of first layer\n",
    "        out2 = self.linear2(out1)           # output of second layer\n",
    "        log_probs = F.log_softmax(out2, dim=1)\n",
    "        return log_probs\n",
    "\n",
    "    def get_word_emdedding(self, word):\n",
    "        word = torch.tensor([word_to_ix[word]])\n",
    "        return self.embeddings(word).view(1,-1)\n",
    "            \n",
    "losses = []\n",
    "loss_function = nn.NLLLoss()\n",
    "model = CBOWModeler(len(vocab), EMBEDDING_DIM, CONTEXT_SIZE)\n",
    "optimizer = optim.SGD(model.parameters(), lr = 0.001)\n",
    "\n",
    "# Initializing Word2Vec embedding matrix with with the word vectors estimated using COALS-SVD\n",
    "with torch.no_grad():\n",
    "    for i in range(len(vocab)):\n",
    "        model.embeddings.weight[i] = torch.from_numpy(M_reduced_co_occurrence)[i]\n",
    "\n",
    "for epoch in tqdm(range(num_epochs)):\n",
    "    total_loss = 0\n",
    "    for context, target in ngrams[:1000]:\n",
    "\n",
    "        context_idxs = torch.tensor([word_to_ix[w] for w in context], dtype=torch.long)\n",
    "        model.zero_grad()\n",
    "        \n",
    "        log_probs = model(context_idxs)\n",
    "        loss = loss_function(log_probs, torch.tensor([word_to_ix[target]], dtype=torch.long))\n",
    "\n",
    "        loss.backward()\n",
    "        optimizer.step()\n",
    "\n",
    "        # Get the Python number from a 1-element Tensor by calling tensor.item()\n",
    "        total_loss += loss.item()\n",
    "    #print(total_loss)\n",
    "    losses.append(total_loss)"
   ]
  },
  {
   "cell_type": "code",
   "execution_count": 46,
   "metadata": {},
   "outputs": [
    {
     "data": {
      "image/png": "[encoded data removed]",
      "text/plain": [
       "<Figure size 432x288 with 1 Axes>"
      ]
     },
     "metadata": {
      "needs_background": "light"
     },
     "output_type": "display_data"
    }
   ],
   "source": [
    "plt.plot(np.linspace(1, num_epochs, num_epochs).astype(int), losses)\n",
    "plt.xlabel('Epochs')\n",
    "plt.ylabel('Total Loss')\n",
    "plt.title(\"Total loss vs epochs\")\n",
    "plt.show()"
   ]
  },
  {
   "cell_type": "code",
   "execution_count": 43,
   "metadata": {},
   "outputs": [],
   "source": [
    "def plot_embeddings_word2vec(model, words):\n",
    "  \n",
    "    for word in words:\n",
    "        embedding = model.get_word_emdedding(word).detach().numpy()\n",
    "        embedding = embedding.flatten()\n",
    "        x = embedding[0]\n",
    "        y = embedding[1]\n",
    "        plt.title(\"Plot visualizing word embeddings from Word2Vec\")\n",
    "        plt.scatter(x, y, marker='x', color='red')\n",
    "        plt.text(x, y, word, fontsize = 9)\n",
    "    # ------------------"
   ]
  },
  {
   "cell_type": "code",
   "execution_count": 44,
   "metadata": {},
   "outputs": [
    {
     "data": {
      "image/png": "[encoded data removed]",
      "text/plain": [
       "<Figure size 432x288 with 1 Axes>"
      ]
     },
     "metadata": {
      "needs_background": "light"
     },
     "output_type": "display_data"
    }
   ],
   "source": [
    "words = ['vaccine', 'china','mutation', 'virus','health', 'disease', 'swine', 'migrant', 'herd', 'illness']\n",
    "plot_embeddings_word2vec(model, words)"
   ]
  },
  {
   "cell_type": "markdown",
   "metadata": {},
   "source": [
    "### Selecting ten words from the corpus and listing their syntactic (associative) and semantic similarities"
   ]
  },
  {
   "cell_type": "code",
   "execution_count": 41,
   "metadata": {},
   "outputs": [],
   "source": [
    "from numpy.linalg import norm\n",
    "\n",
    "def compute_nearest_word(model, word, word_to_ix, topn):\n",
    "    \"\"\"\n",
    "    :param X: Embedding Matrix |V x D|\n",
    "    :param idx: The Knn of the ith\n",
    "    :param k: k nearest neighbour\n",
    "    :return:\n",
    "    \"\"\"\n",
    "    X = model.embeddings.weight.detach().cpu().numpy()\n",
    "    idx = word_to_ix[word]\n",
    "    \n",
    "    # cosine similarity score\n",
    "    dists = np.dot(X , X[idx])/(norm(X)*norm(X[idx]))\n",
    "    idxs = np.argsort(dists)[::-1][:topn + 1]\n",
    "\n",
    "    print('The {} nearest neighbour of {} are: '.format(str(topn), word))\n",
    "    for i in idxs[1: ]:\n",
    "        print(\"'\",list(word_to_ix.keys())[list(word_to_ix.values()).index(i)],\"' with a cosine similarity score of\", dists[i])\n",
    "    print(\"====================\")\n",
    "    return idxs"
   ]
  },
  {
   "cell_type": "code",
   "execution_count": 42,
   "metadata": {
    "scrolled": false
   },
   "outputs": [
    {
     "name": "stdout",
     "output_type": "stream",
     "text": [
      "The 10 nearest neighbour of vaccine are: \n",
      "' cell ' with a cosine similarity score of 0.054032553\n",
      "' surface ' with a cosine similarity score of 0.05294575\n",
      "' fipv ' with a cosine similarity score of 0.052354477\n",
      "' antigen ' with a cosine similarity score of 0.047146544\n",
      "' infected ' with a cosine similarity score of 0.046524916\n",
      "' virus ' with a cosine similarity score of 0.03735571\n",
      "' cat ' with a cosine similarity score of 0.032049745\n",
      "' positive ' with a cosine similarity score of 0.029134123\n",
      "' staining ' with a cosine similarity score of 0.0267768\n",
      "' antibody ' with a cosine similarity score of 0.024590747\n",
      "====================\n",
      "The 10 nearest neighbour of china are: \n",
      "' health ' with a cosine similarity score of 0.011200807\n",
      "' south ' with a cosine similarity score of 0.01035968\n",
      "' coronavirus ' with a cosine similarity score of 0.009983495\n",
      "' province ' with a cosine similarity score of 0.009606646\n",
      "' east ' with a cosine similarity score of 0.009227037\n",
      "' wuhan ' with a cosine similarity score of 0.009055098\n",
      "' country ' with a cosine similarity score of 0.009013965\n",
      "' patient ' with a cosine similarity score of 0.008544579\n",
      "' syndrome ' with a cosine similarity score of 0.008399143\n",
      "' respiratory ' with a cosine similarity score of 0.008395639\n",
      "====================\n",
      "The 10 nearest neighbour of mutation are: \n",
      "' infected ' with a cosine similarity score of 0.05957533\n",
      "' fipv ' with a cosine similarity score of 0.050267674\n",
      "' surface ' with a cosine similarity score of 0.047509603\n",
      "' viral ' with a cosine similarity score of 0.045853697\n",
      "' antigen ' with a cosine similarity score of 0.037498966\n",
      "' positive ' with a cosine similarity score of 0.036018178\n",
      "' mhc ' with a cosine similarity score of 0.029518168\n",
      "' virus ' with a cosine similarity score of 0.026966924\n",
      "' expression ' with a cosine similarity score of 0.025865395\n",
      "' protein ' with a cosine similarity score of 0.022605559\n",
      "====================\n",
      "The 10 nearest neighbour of virus are: \n",
      "' viral ' with a cosine similarity score of 0.13950495\n",
      "' cell ' with a cosine similarity score of 0.13931909\n",
      "' infected ' with a cosine similarity score of 0.12510474\n",
      "' surface ' with a cosine similarity score of 0.115882225\n",
      "' antigen ' with a cosine similarity score of 0.100222565\n",
      "' positive ' with a cosine similarity score of 0.08534629\n",
      "' virus ' with a cosine similarity score of 0.06472037\n",
      "' staining ' with a cosine similarity score of 0.063655585\n",
      "' mhc ' with a cosine similarity score of 0.058870178\n",
      "' cat ' with a cosine similarity score of 0.058843948\n",
      "====================\n",
      "The 10 nearest neighbour of health are: \n",
      "' fipv ' with a cosine similarity score of 0.014797328\n",
      "' public ' with a cosine similarity score of 0.011801862\n",
      "' care ' with a cosine similarity score of 0.0100256335\n",
      "' social ' with a cosine similarity score of 0.009758147\n",
      "' country ' with a cosine similarity score of 0.009324673\n",
      "' viral ' with a cosine similarity score of 0.0088187\n",
      "' epi ' with a cosine similarity score of 0.0087626595\n",
      "' government ' with a cosine similarity score of 0.008615643\n",
      "' world ' with a cosine similarity score of 0.008493823\n",
      "' staff ' with a cosine similarity score of 0.008416901\n",
      "====================\n",
      "The 10 nearest neighbour of disease are: \n",
      "' cell ' with a cosine similarity score of 0.09238006\n",
      "' surface ' with a cosine similarity score of 0.062073376\n",
      "' viral ' with a cosine similarity score of 0.057353955\n",
      "' antigen ' with a cosine similarity score of 0.048552323\n",
      "' infected ' with a cosine similarity score of 0.038178317\n",
      "' staining ' with a cosine similarity score of 0.034970444\n",
      "' mhc ' with a cosine similarity score of 0.033630185\n",
      "' isolated ' with a cosine similarity score of 0.033600207\n",
      "' expression ' with a cosine similarity score of 0.03172503\n",
      "' positive ' with a cosine similarity score of 0.030828077\n",
      "====================\n",
      "The 10 nearest neighbour of swine are: \n",
      "' viral ' with a cosine similarity score of 0.062828064\n",
      "' cell ' with a cosine similarity score of 0.059838008\n",
      "' surface ' with a cosine similarity score of 0.04931907\n",
      "' antigen ' with a cosine similarity score of 0.044650476\n",
      "' virus ' with a cosine similarity score of 0.038094606\n",
      "' infected ' with a cosine similarity score of 0.034608\n",
      "' et ' with a cosine similarity score of 0.027144732\n",
      "' feline ' with a cosine similarity score of 0.026602179\n",
      "' staining ' with a cosine similarity score of 0.024791708\n",
      "' cat ' with a cosine similarity score of 0.023413736\n",
      "====================\n",
      "The 10 nearest neighbour of migrant are: \n",
      "' fipv ' with a cosine similarity score of 0.025709\n",
      "' cell ' with a cosine similarity score of 0.02044967\n",
      "' health ' with a cosine similarity score of 0.017513277\n",
      "' hospital ' with a cosine similarity score of 0.0137718115\n",
      "' country ' with a cosine similarity score of 0.011908016\n",
      "' covid ' with a cosine similarity score of 0.011074155\n",
      "' public ' with a cosine similarity score of 0.010762823\n",
      "' expression ' with a cosine similarity score of 0.010045605\n",
      "' mhc ' with a cosine similarity score of 0.009981303\n",
      "' social ' with a cosine similarity score of 0.009046419\n",
      "====================\n",
      "The 10 nearest neighbour of herd are: \n",
      "' fipv ' with a cosine similarity score of 0.06566467\n",
      "' viral ' with a cosine similarity score of 0.06403902\n",
      "' surface ' with a cosine similarity score of 0.05201462\n",
      "' infected ' with a cosine similarity score of 0.045387086\n",
      "' antigen ' with a cosine similarity score of 0.04231134\n",
      "' positive ' with a cosine similarity score of 0.03884696\n",
      "' staining ' with a cosine similarity score of 0.030202448\n",
      "' virus ' with a cosine similarity score of 0.02946517\n",
      "' cat ' with a cosine similarity score of 0.027942328\n",
      "' expression ' with a cosine similarity score of 0.02393412\n",
      "====================\n",
      "The 10 nearest neighbour of illness are: \n",
      "' fipv ' with a cosine similarity score of 0.029163033\n",
      "' respiratory ' with a cosine similarity score of 0.020692747\n",
      "' syndrome ' with a cosine similarity score of 0.018993123\n",
      "' surface ' with a cosine similarity score of 0.018966109\n",
      "' acute ' with a cosine similarity score of 0.018831594\n",
      "' viral ' with a cosine similarity score of 0.016823139\n",
      "' feline ' with a cosine similarity score of 0.016411329\n",
      "' severe ' with a cosine similarity score of 0.016111663\n",
      "' infection ' with a cosine similarity score of 0.015920185\n",
      "' fever ' with a cosine similarity score of 0.014988633\n",
      "====================\n"
     ]
    }
   ],
   "source": [
    "words = ['vaccine', 'china','mutation', 'virus','health', 'disease', 'swine', 'migrant', 'herd', 'illness']\n",
    "for word in words:\n",
    "    compute_nearest_word(model, word, word_to_ix, topn = 10)"
   ]
  },
  {
   "cell_type": "code",
   "execution_count": null,
   "metadata": {},
   "outputs": [],
   "source": []
  }
 ],
 "metadata": {
  "colab": {
   "collapsed_sections": [],
   "name": "NLP Assignment 2.ipynb",
   "provenance": []
  },
  "kernelspec": {
   "display_name": "Python 3",
   "language": "python",
   "name": "python3"
  },
  "language_info": {
   "codemirror_mode": {
    "name": "ipython",
    "version": 3
   },
   "file_extension": ".py",
   "mimetype": "text/x-python",
   "name": "python",
   "nbconvert_exporter": "python",
   "pygments_lexer": "ipython3",
   "version": "3.8.3"
  }
 },
 "nbformat": 4,
 "nbformat_minor": 1
}
